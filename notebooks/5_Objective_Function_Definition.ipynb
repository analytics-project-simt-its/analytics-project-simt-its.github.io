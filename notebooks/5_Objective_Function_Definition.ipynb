{
 "cells": [
  {
   "cell_type": "markdown",
   "metadata": {},
   "source": [
    "# 5. Objective Functions for Optimization Models\n",
    "\n",
    "This notebook continues our step-by-step guide to creating optimization models. We are now at step 5 of our 7-step procedure:\n",
    "\n",
    "1. ✓ Import Pyomo and Define the Sets\n",
    "2. ✓ Define the Decision Variables\n",
    "3. ✓ Define the Parameters\n",
    "4. ✓ Define the Expressions\n",
    "5. ➡️ Define the Objective Function\n",
    "6. Define the Constraints\n",
    "\n",
    "The objective function is perhaps the most crucial part of an optimization model - it defines what we are trying to achieve. Are we trying to maximize profit? Minimize cost? Optimize customer satisfaction? The objective function mathematically expresses these goals.\n",
    "\n",
    "In this notebook, we will explore:\n",
    "- What objective functions are and why they matter\n",
    "- How to define different types of objectives in Pyomo\n",
    "- Common objective function patterns\n",
    "- Best practices for formulating objectives\n",
    "- How to handle multiple objectives"
   ]
  },
  {
   "cell_type": "markdown",
   "metadata": {},
   "source": [
    "## Setup: Creating Our Model Environment\n",
    "\n",
    "Let's set up a production planning model example that we'll use throughout this notebook:"
   ]
  },
  {
   "cell_type": "code",
   "execution_count": 1,
   "metadata": {},
   "outputs": [],
   "source": [
    "import pyomo.environ as pyo\n",
    "\n",
    "# Create model\n",
    "m = pyo.ConcreteModel()\n",
    "\n",
    "# Sets\n",
    "m.I = pyo.Set(initialize=['P1', 'P2', 'P3'])  # Products\n",
    "m.J = pyo.Set(initialize=['M1', 'M2'])        # Machines\n",
    "\n",
    "# Variables\n",
    "m.x = pyo.Var(m.I, domain=pyo.NonNegativeReals, initialize={'P1': 100, 'P2': 150, 'P3': 200})  # Production quantities\n",
    "m.y = pyo.Var(m.I, m.J, domain=pyo.Binary, initialize={(i, j): 1 for i in m.I for j in m.J})  # Machine assignments\n",
    "\n",
    "# Parameters\n",
    "m.p = pyo.Param(m.I, initialize={'P1': 100, 'P2': 150, 'P3': 200})  # Product prices\n",
    "m.c = pyo.Param(m.J, initialize={'M1': 50, 'M2': 40})               # Machine costs\n",
    "m.d = pyo.Param(m.I, initialize={'P1': 80, 'P2': 120, 'P3': 60})    # Demands\n",
    "\n",
    "# Common expressions\n",
    "m.revenue = pyo.Expression(expr=sum(m.p[i] * m.x[i] for i in m.I))\n",
    "m.production_cost = pyo.Expression(expr=sum(m.c[j] * m.y[i,j] \n",
    "                                           for i in m.I for j in m.J))"
   ]
  },
  {
   "cell_type": "markdown",
   "metadata": {},
   "source": [
    "## Understanding Objective Functions\n",
    "\n",
    "An objective function in optimization represents what we're trying to optimize. It typically takes one of two forms:\n",
    "\n",
    "1. Maximization objectives (e.g., maximize profit, utility, efficiency)\n",
    "2. Minimization objectives (e.g., minimize cost, time, waste)\n",
    "\n",
    "In Pyomo, we define objectives using the `Objective` component with a sense (maximize or minimize) and an expression. Here's a simple example:"
   ]
  },
  {
   "cell_type": "code",
   "execution_count": 2,
   "metadata": {},
   "outputs": [],
   "source": [
    "# Simple profit maximization objective\n",
    "m.profit = pyo.Objective(\n",
    "    expr=m.revenue - m.production_cost,\n",
    "    sense=pyo.maximize\n",
    ")"
   ]
  },
  {
   "cell_type": "markdown",
   "metadata": {},
   "source": [
    "## Common Objective Function Patterns\n",
    "\n",
    "Let's look at several typical objective function patterns you might encounter in practice:\n",
    "\n",
    "### 1. Cost Minimization"
   ]
  },
  {
   "cell_type": "code",
   "execution_count": 3,
   "metadata": {},
   "outputs": [],
   "source": [
    "# 1. Cost Minimization\n",
    "def cost_objective(m):\n",
    "    \"\"\"Total cost including production and machine setup\"\"\"\n",
    "    production_cost = sum(m.c[j] * m.y[i,j] for i in m.I for j in m.J)\n",
    "    setup_cost = 1000 * sum(m.y[i,j] for i in m.I for j in m.J)  # Fixed cost per setup\n",
    "    return production_cost + setup_cost\n",
    "\n",
    "m.objective = pyo.Objective(rule=cost_objective, sense=pyo.minimize)"
   ]
  },
  {
   "cell_type": "markdown",
   "metadata": {},
   "source": [
    "Here, the goal is to minimize the cost. We can view the objective function by:"
   ]
  },
  {
   "cell_type": "code",
   "execution_count": 4,
   "metadata": {},
   "outputs": [
    {
     "name": "stdout",
     "output_type": "stream",
     "text": [
      "objective : Size=1, Index=None, Active=True\n",
      "    Key  : Active : Sense    : Expression\n",
      "    None :   True : minimize : 50*y[P1,M1] + 40*y[P1,M2] + 50*y[P2,M1] + 40*y[P2,M2] + 50*y[P3,M1] + 40*y[P3,M2] + 1000*(y[P1,M1] + y[P1,M2] + y[P2,M1] + y[P2,M2] + y[P3,M1] + y[P3,M2])\n"
     ]
    }
   ],
   "source": [
    "m.objective.pprint()"
   ]
  },
  {
   "cell_type": "markdown",
   "metadata": {},
   "source": [
    "We can access its value computed using the initial values of the variables and parameters by:"
   ]
  },
  {
   "cell_type": "code",
   "execution_count": 5,
   "metadata": {},
   "outputs": [
    {
     "data": {
      "text/plain": [
       "6270"
      ]
     },
     "execution_count": 5,
     "metadata": {},
     "output_type": "execute_result"
    }
   ],
   "source": [
    "m.objective()"
   ]
  },
  {
   "cell_type": "markdown",
   "metadata": {},
   "source": [
    "The importance of variable and parameter initialization is that it allows us to see the objective function value computed using the initial values of the variables and parameters.\n",
    "\n",
    "\n",
    "### 2. Revenue Maximization with Quality Bonus\n",
    "\n",
    "We can create a new objective function that maximizes the revenue. Typically, we only have one objective function in the model, so we need to deactivate the previous objective function to avoid any conflict in the model. "
   ]
  },
  {
   "cell_type": "code",
   "execution_count": 6,
   "metadata": {},
   "outputs": [],
   "source": [
    "# Deactivate the previous objective before creating a new one\n",
    "m.objective.deactivate()"
   ]
  },
  {
   "cell_type": "markdown",
   "metadata": {},
   "source": [
    "Let's now create a new objective function that maximizes the revenue."
   ]
  },
  {
   "cell_type": "code",
   "execution_count": 7,
   "metadata": {},
   "outputs": [],
   "source": [
    "# 2. Revenue Maximization with Quality Bonus\n",
    "m.quality_bonus = pyo.Param(m.I, initialize={'P1': 1.1, 'P2': 1.0, 'P3': 1.2})  # Quality multipliers\n",
    "revenue_with_quality_bonus = sum(m.p[i] * m.quality_bonus[i] * m.x[i] for i in m.I)\n",
    "\n",
    "m.max_revenue = pyo.Objective(expr=revenue_with_quality_bonus, sense=pyo.maximize)"
   ]
  },
  {
   "cell_type": "markdown",
   "metadata": {},
   "source": [
    "We can view the objective function by:"
   ]
  },
  {
   "cell_type": "code",
   "execution_count": 8,
   "metadata": {},
   "outputs": [
    {
     "name": "stdout",
     "output_type": "stream",
     "text": [
      "Objective function:  110.00000000000001*x[P1] + 150.0*x[P2] + 240.0*x[P3]\n",
      "Objective function value:  81500.0\n"
     ]
    }
   ],
   "source": [
    "print(\"Objective function: \", m.max_revenue.expr)\n",
    "print(\"Objective function value: \", m.max_revenue())"
   ]
  },
  {
   "cell_type": "markdown",
   "metadata": {},
   "source": [
    "In general, we can either maximize or minimize the objective function which can be set by the `sense` parameter."
   ]
  },
  {
   "cell_type": "markdown",
   "metadata": {},
   "source": [
    "## Writing Effective Objective Functions\n",
    "\n",
    "When formulating objective functions, consider these key principles:\n",
    "\n",
    "1. Clarity and Maintainability:\n",
    "   - Use meaningful variable and parameter names\n",
    "   - Break complex objectives into smaller expressions\n",
    "   - Document the objective's components and purpose\n",
    "\n",
    "2. Numerical Stability:\n",
    "   - Keep objective terms in similar numerical ranges\n",
    "   - Consider scaling factors for different components\n",
    "   - Avoid unnecessary nonlinearities\n",
    "\n",
    "Here's an example applying these principles:"
   ]
  },
  {
   "cell_type": "code",
   "execution_count": 9,
   "metadata": {},
   "outputs": [],
   "source": [
    "#deactivate the previous objective function\n",
    "m.max_revenue.deactivate()"
   ]
  },
  {
   "cell_type": "code",
   "execution_count": 10,
   "metadata": {},
   "outputs": [
    {
     "name": "stdout",
     "output_type": "stream",
     "text": [
      "Objective function:  total_profit\n",
      "Objective function value:  71230.0\n"
     ]
    }
   ],
   "source": [
    "# Max profit objective\n",
    "m.base_revenue = pyo.Expression(expr=sum(m.p[i] * m.x[i] for i in m.I))\n",
    "m.quality_premium = pyo.Expression(expr=sum(0.1 * m.p[i] * m.x[i] for i in m.I if m.quality_bonus[i] > 1.0))\n",
    "m.total_production_cost = pyo.Expression(expr=sum(m.c[j] * m.y[i,j] for i in m.I for j in m.J))\n",
    "m.total_setup_cost = pyo.Expression(expr=1000 * sum(m.y[i,j] for i in m.I for j in m.J))\n",
    "m.total_profit = pyo.Expression(expr=m.base_revenue + m.quality_premium - m.total_production_cost - m.total_setup_cost)\n",
    "m.profit_objective = pyo.Objective(expr=m.total_profit, sense=pyo.maximize)\n",
    "\n",
    "print(\"Objective function: \", m.profit_objective.expr)\n",
    "print(\"Objective function value: \", m.profit_objective())\n"
   ]
  },
  {
   "cell_type": "markdown",
   "metadata": {},
   "source": [
    "We can also achieve the same result by using Python functions. This is useful when we want to have a more complex objective function that is not easily expressible in a single expression."
   ]
  },
  {
   "cell_type": "code",
   "execution_count": 11,
   "metadata": {},
   "outputs": [
    {
     "name": "stdout",
     "output_type": "stream",
     "text": [
      "Objective components for P1:\n",
      "- Base revenue: 100*x[P1]\n",
      "- Quality premium: 10.0*x[P1]\n",
      "- Production cost: 50*y[P1,M1] + 40*y[P1,M2]\n",
      "- Setup cost: 1000*y[P1,M1] + 1000*y[P1,M2]\n",
      "\n",
      "\n",
      "Objective function:  100*x[P1] + 150*x[P2] + 200*x[P3] + 10.0*x[P1] + 20.0*x[P3] - (50*y[P1,M1] + 40*y[P1,M2] + 50*y[P2,M1] + 40*y[P2,M2] + 50*y[P3,M1] + 40*y[P3,M2]) - 1000*(y[P1,M1] + y[P1,M2] + y[P2,M1] + y[P2,M2] + y[P3,M1] + y[P3,M2])\n",
      "Objective function value:  71230.0\n"
     ]
    }
   ],
   "source": [
    "def profit_function(m):\n",
    "    \"\"\"Calculate total profit with multiple components\n",
    "    \n",
    "    Components:\n",
    "    1. Base revenue from product sales\n",
    "    2. Quality premium for high-quality products\n",
    "    3. Production costs from machine usage\n",
    "    4. Fixed setup costs for machine configurations\n",
    "    \"\"\"\n",
    "    # Revenue components\n",
    "    base_revenue = sum(m.p[i] * m.x[i] for i in m.I)\n",
    "    quality_premium = sum(0.1 * m.p[i] * m.x[i] \n",
    "                         for i in m.I if m.quality_bonus[i] > 1.0)\n",
    "    \n",
    "    # Cost components\n",
    "    production_cost = sum(m.c[j] * m.y[i,j] \n",
    "                         for i in m.I for j in m.J)\n",
    "    setup_cost = 1000 * sum(m.y[i,j] \n",
    "                           for i in m.I for j in m.J)\n",
    "    \n",
    "    # Print components for the first product for demonstration\n",
    "    print(\"Objective components for P1:\")\n",
    "    print(f\"- Base revenue: {m.p['P1']}*x[P1]\")\n",
    "    print(f\"- Quality premium: {0.1 * m.p['P1']}*x[P1]\")\n",
    "    print(f\"- Production cost: {m.c['M1']}*y[P1,M1] + {m.c['M2']}*y[P1,M2]\")\n",
    "    print(\"- Setup cost: 1000*y[P1,M1] + 1000*y[P1,M2]\")\n",
    "    print(\"\\n\")\n",
    "    \n",
    "    return base_revenue + quality_premium - production_cost - setup_cost\n",
    "\n",
    "# Create and activate the structured objective\n",
    "m.profit_with_function = pyo.Objective(rule=profit_function, sense=pyo.maximize)\n",
    "\n",
    "print(\"Objective function: \", m.profit_with_function.expr)\n",
    "print(\"Objective function value: \", m.profit_with_function())"
   ]
  },
  {
   "cell_type": "markdown",
   "metadata": {},
   "source": [
    "## Handling Multiple Objectives\n",
    "\n",
    "In real-world problems, we often have multiple competing objectives. There are several ways to handle this:\n",
    "\n",
    "1. Weighted Sum Approach\n",
    "2. Hierarchical Optimization\n",
    "3. Goal Programming\n",
    "\n",
    "Let's implement these approaches:"
   ]
  },
  {
   "cell_type": "code",
   "execution_count": 12,
   "metadata": {},
   "outputs": [
    {
     "name": "stdout",
     "output_type": "stream",
     "text": [
      "Objective function:  0.7*(((100*x[P1] + 150*x[P2] + 200*x[P3]) - (50*y[P1,M1] + 40*y[P1,M2] + 50*y[P2,M1] + 40*y[P2,M2] + 50*y[P3,M1] + 40*y[P3,M2]))/38000) + 0.3*((0.0125*x[P1] + 0.008333333333333333*x[P2] + 0.016666666666666666*x[P3])/3)\n",
      "Objective function value:  1.9138859649122808\n"
     ]
    }
   ],
   "source": [
    "def weighted_objective(m):\n",
    "    \"\"\"Combine profit and service level objectives with weights\"\"\"\n",
    "    # Normalize each component to similar scale\n",
    "    max_possible_profit = sum(m.p[i] * m.d[i] for i in m.I)\n",
    "    normalized_profit = (m.revenue - m.production_cost) / max_possible_profit\n",
    "    \n",
    "    service_levels = [(m.x[i] / m.d[i]) for i in m.I]\n",
    "    avg_service = sum(service_levels) / len(m.I)\n",
    "    \n",
    "    # Weight the components\n",
    "    profit_weight = 0.7\n",
    "    service_weight = 0.3\n",
    "    \n",
    "    return profit_weight * normalized_profit + service_weight * avg_service\n",
    "\n",
    "m.weighted_obj = pyo.Objective(rule=weighted_objective, sense=pyo.maximize)\n",
    "\n",
    "print(\"Objective function: \", m.weighted_obj.expr)\n",
    "print(\"Objective function value: \", m.weighted_obj())\n"
   ]
  },
  {
   "cell_type": "markdown",
   "metadata": {},
   "source": [
    "The idea of the weighted sum approach is to combine the two objectives into a single objective function. The weights are used to balance the two objectives."
   ]
  },
  {
   "cell_type": "code",
   "execution_count": 13,
   "metadata": {},
   "outputs": [
    {
     "name": "stdout",
     "output_type": "stream",
     "text": [
      "Objective function:  (100*x[P1] + 150*x[P2] + 200*x[P3]) - (50*y[P1,M1] + 40*y[P1,M2] + 50*y[P2,M1] + 40*y[P2,M2] + 50*y[P3,M1] + 40*y[P3,M2])\n",
      "Objective function value:  72230\n"
     ]
    }
   ],
   "source": [
    "# Hierarchical Approach (using constraints)\n",
    "# First ensure minimum service level\n",
    "m.min_service_level = pyo.Constraint(\n",
    "    m.I,\n",
    "    rule=lambda m, i: m.x[i] >= 0.9 * m.d[i]  # Minimum 90% service level\n",
    ")\n",
    "\n",
    "# Then maximize profit within these constraints\n",
    "m.hierarchical_obj = pyo.Objective(\n",
    "    expr=m.revenue - m.production_cost,\n",
    "    sense=pyo.maximize\n",
    ")\n",
    "\n",
    "print(\"Objective function: \", m.hierarchical_obj.expr)\n",
    "print(\"Objective function value: \", m.hierarchical_obj())\n"
   ]
  },
  {
   "cell_type": "markdown",
   "metadata": {},
   "source": [
    "The main idea of the hierarchical approach is to first ensure that the minimum service level is met and then maximize the profit within these constraints."
   ]
  },
  {
   "cell_type": "code",
   "execution_count": 14,
   "metadata": {},
   "outputs": [
    {
     "name": "stdout",
     "output_type": "stream",
     "text": [
      "Objective function:  abs((100*x[P1] + 150*x[P2] + 200*x[P3]) - (50*y[P1,M1] + 40*y[P1,M2] + 50*y[P2,M1] + 40*y[P2,M2] + 50*y[P3,M1] + 40*y[P3,M2]) - 10000)/10000 + (abs(0.0125*x[P1] - 0.95) + abs(0.008333333333333333*x[P2] - 0.95) + abs(0.016666666666666666*x[P3] - 0.95))/3\n",
      "Objective function value:  7.217444444444444\n"
     ]
    }
   ],
   "source": [
    "m.hierarchical_obj.deactivate()\n",
    "\n",
    "def goal_programming_obj(m):\n",
    "    \"\"\"Minimize deviations from goals\"\"\"\n",
    "    # Define goals\n",
    "    profit_goal = 10000\n",
    "    service_goal = 0.95\n",
    "    \n",
    "    # Calculate deviations\n",
    "    profit_dev = abs((m.revenue - m.production_cost) - profit_goal)\n",
    "    service_dev = sum(abs((m.x[i] / m.d[i]) - service_goal) for i in m.I)\n",
    "    \n",
    "    # Minimize total weighted deviation\n",
    "    return profit_dev / profit_goal + service_dev / len(m.I)\n",
    "\n",
    "m.goal_obj = pyo.Objective(rule=goal_programming_obj, sense=pyo.minimize)\n",
    "\n",
    "print(\"Objective function: \", m.goal_obj.expr)\n",
    "print(\"Objective function value: \", m.goal_obj())"
   ]
  },
  {
   "cell_type": "markdown",
   "metadata": {},
   "source": [
    "The idea of the goal programming approach is to minimize the deviations from the goals. The goals are defined as the minimum profit and the minimum service level. The deviations are calculated as the absolute differences between the actual values and the goal values. The objective function is then the sum of the weighted deviations.\n",
    "\n",
    "\n",
    "These are the most common approaches to handling multiple objectives in optimization models. The choice of approach depends on the specific problem and the goals of the decision-maker. \n",
    "\n",
    "In this class, we will focus on the weighted sum approach as it is the most straightforward and flexible approach."
   ]
  },
  {
   "cell_type": "markdown",
   "metadata": {},
   "source": [
    "## Conclusion\n",
    "\n",
    "We've covered the key aspects of defining objective functions in Pyomo optimization models:\n",
    "\n",
    "- What objective functions are and why they matter\n",
    "- How to define different types of objectives in Pyomo\n",
    "- Common objective function patterns\n",
    "- Best practices for formulating objectives\n",
    "- How to handle multiple objectives\n",
    "\n",
    "As you can see, objective functions are essentially just expressions, with an additional sense parameter (maximize or minimize). However, the way we construct these expressions can have a significant impact on the model's performance and the quality of the solutions we obtain. \n",
    "\n",
    "In the next notebook, we will learn how to add constraints to the model.\n"
   ]
  }
 ],
 "metadata": {
  "kernelspec": {
   "display_name": ".venv",
   "language": "python",
   "name": "python3"
  },
  "language_info": {
   "codemirror_mode": {
    "name": "ipython",
    "version": 3
   },
   "file_extension": ".py",
   "mimetype": "text/x-python",
   "name": "python",
   "nbconvert_exporter": "python",
   "pygments_lexer": "ipython3",
   "version": "3.9.12"
  }
 },
 "nbformat": 4,
 "nbformat_minor": 2
}
