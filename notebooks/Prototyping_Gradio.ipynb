{
  "cells": [
    {
      "cell_type": "markdown",
      "metadata": {
        "id": "D_XJcxqx22uj"
      },
      "source": [
        "# Prototyping\n",
        "\n",
        "In this notebook, we will focus on prototyping and producing a simple demo model we developed in the previous chapter. We will use the production planning model as an example. Recall that the model is defined as follows:\n",
        "\n",
        "$$\n",
        "\\begin{equation}\n",
        "    \\begin{aligned}\n",
        "        & \\underset{x}{\\text{maximize}}\n",
        "        & & \\sum_{i \\in I} (r_i - c_i) \\cdot x_{i} \\\\\n",
        "        & \\text{subject to}\n",
        "        & & \\sum_{i \\in I} c_i \\cdot x_i \\leq b, \\\\\n",
        "        & & & \\sum_{i \\in I} x_i \\leq s, \\\\\n",
        "        & & & x_i \\leq p_i \\quad \\forall i \\in I, \\\\\n",
        "        & & & x_i \\geq 0 \\quad \\forall i \\in I.\n",
        "    \\end{aligned}\n",
        "\\end{equation}\n",
        "$$\n",
        "\n",
        "where $I$ is the set of products, $x_i$ is the production quantity of product $i$, $r_i$ is the revenue of product $i$, $c_i$ is the cost of product $i$, $b$ is the budget, $s$ is the storage capacity, and $p_i$ is the production capacity of product $i$."
      ]
    },
    {
      "cell_type": "markdown",
      "metadata": {
        "id": "AUHtJ20jYqd9"
      },
      "source": [
        "## Goal of prototyping\n",
        "\n",
        "Prototyping is the process of creating a simple model that demonstrates the functionality of the model we developed. It is essentially a demo model that we can use to demonstrate the functionality of the model to the user.\n",
        "\n",
        "Since the goal is to demonstrate the key **functionality** of the model, we will need to define what functionalities we want to demonstrate. For the production planning model, we want to demonstrate the following:\n",
        "\n",
        "1. The user can upload an Excel file containing the data and the parameters.\n",
        "2. The user can verify the data and the parameters.\n",
        "3. The user can solve the model.\n",
        "4. The user can view the solution.\n",
        "5. The user can download the solution in Excel format.\n",
        "\n",
        "Recall that the data we have is stored here:"
      ]
    },
    {
      "cell_type": "code",
      "execution_count": 1,
      "metadata": {
        "id": "qtlFLbke2Sob"
      },
      "outputs": [],
      "source": [
        "EXCEL_URL = \"https://docs.google.com/spreadsheets/d/e/2PACX-1vQzIHhg3mZq4eGXraXQZl07kduWMhwrnUqqs_gPT6qH_V1SWI3crMZMllxG6MX1sz3QJCFBjMt9tftr/pub?output=xlsx\""
      ]
    },
    {
      "cell_type": "markdown",
      "metadata": {
        "id": "R06dbZZaYJDq"
      },
      "source": [
        "Please be sure to download the Excel file and ready to upload it. Let's start by installing the necessary packages."
      ]
    },
    {
      "cell_type": "code",
      "execution_count": 2,
      "metadata": {
        "colab": {
          "base_uri": "https://localhost:8080/"
        },
        "id": "fJUJLWQ92g6R",
        "outputId": "31a335d8-dd7a-48c9-8014-a22c7caca0d8"
      },
      "outputs": [
        {
          "output_type": "stream",
          "name": "stdout",
          "text": [
            "\u001b[2K   \u001b[90m━━━━━━━━━━━━━━━━━━━━━━━━━━━━━━━━━━━━━━━━\u001b[0m \u001b[32m57.6/57.6 MB\u001b[0m \u001b[31m10.7 MB/s\u001b[0m eta \u001b[36m0:00:00\u001b[0m\n",
            "\u001b[2K   \u001b[90m━━━━━━━━━━━━━━━━━━━━━━━━━━━━━━━━━━━━━━━━\u001b[0m \u001b[32m321.4/321.4 kB\u001b[0m \u001b[31m13.0 MB/s\u001b[0m eta \u001b[36m0:00:00\u001b[0m\n",
            "\u001b[2K   \u001b[90m━━━━━━━━━━━━━━━━━━━━━━━━━━━━━━━━━━━━━━━━\u001b[0m \u001b[32m94.8/94.8 kB\u001b[0m \u001b[31m5.7 MB/s\u001b[0m eta \u001b[36m0:00:00\u001b[0m\n",
            "\u001b[2K   \u001b[90m━━━━━━━━━━━━━━━━━━━━━━━━━━━━━━━━━━━━━━━━\u001b[0m \u001b[32m12.4/12.4 MB\u001b[0m \u001b[31m60.5 MB/s\u001b[0m eta \u001b[36m0:00:00\u001b[0m\n",
            "\u001b[2K   \u001b[90m━━━━━━━━━━━━━━━━━━━━━━━━━━━━━━━━━━━━━━━━\u001b[0m \u001b[32m73.2/73.2 kB\u001b[0m \u001b[31m4.0 MB/s\u001b[0m eta \u001b[36m0:00:00\u001b[0m\n",
            "\u001b[2K   \u001b[90m━━━━━━━━━━━━━━━━━━━━━━━━━━━━━━━━━━━━━━━━\u001b[0m \u001b[32m62.3/62.3 kB\u001b[0m \u001b[31m3.2 MB/s\u001b[0m eta \u001b[36m0:00:00\u001b[0m\n",
            "\u001b[?25hSelecting previously unselected package libsuitesparseconfig5:amd64.\n",
            "(Reading database ... 124565 files and directories currently installed.)\n",
            "Preparing to unpack .../libsuitesparseconfig5_1%3a5.10.1+dfsg-4build1_amd64.deb ...\n",
            "Unpacking libsuitesparseconfig5:amd64 (1:5.10.1+dfsg-4build1) ...\n",
            "Selecting previously unselected package libamd2:amd64.\n",
            "Preparing to unpack .../libamd2_1%3a5.10.1+dfsg-4build1_amd64.deb ...\n",
            "Unpacking libamd2:amd64 (1:5.10.1+dfsg-4build1) ...\n",
            "Selecting previously unselected package libcolamd2:amd64.\n",
            "Preparing to unpack .../libcolamd2_1%3a5.10.1+dfsg-4build1_amd64.deb ...\n",
            "Unpacking libcolamd2:amd64 (1:5.10.1+dfsg-4build1) ...\n",
            "Selecting previously unselected package libglpk40:amd64.\n",
            "Preparing to unpack .../libglpk40_5.0-1_amd64.deb ...\n",
            "Unpacking libglpk40:amd64 (5.0-1) ...\n",
            "Selecting previously unselected package glpk-utils.\n",
            "Preparing to unpack .../glpk-utils_5.0-1_amd64.deb ...\n",
            "Unpacking glpk-utils (5.0-1) ...\n",
            "Setting up libsuitesparseconfig5:amd64 (1:5.10.1+dfsg-4build1) ...\n",
            "Setting up libamd2:amd64 (1:5.10.1+dfsg-4build1) ...\n",
            "Setting up libcolamd2:amd64 (1:5.10.1+dfsg-4build1) ...\n",
            "Setting up libglpk40:amd64 (5.0-1) ...\n",
            "Setting up glpk-utils (5.0-1) ...\n",
            "Processing triggers for man-db (2.10.2-1) ...\n",
            "Processing triggers for libc-bin (2.35-0ubuntu3.4) ...\n",
            "/sbin/ldconfig.real: /usr/local/lib/libtbbbind.so.3 is not a symbolic link\n",
            "\n",
            "/sbin/ldconfig.real: /usr/local/lib/libhwloc.so.15 is not a symbolic link\n",
            "\n",
            "/sbin/ldconfig.real: /usr/local/lib/libtbbbind_2_0.so.3 is not a symbolic link\n",
            "\n",
            "/sbin/ldconfig.real: /usr/local/lib/libur_adapter_opencl.so.0 is not a symbolic link\n",
            "\n",
            "/sbin/ldconfig.real: /usr/local/lib/libtbb.so.12 is not a symbolic link\n",
            "\n",
            "/sbin/ldconfig.real: /usr/local/lib/libumf.so.0 is not a symbolic link\n",
            "\n",
            "/sbin/ldconfig.real: /usr/local/lib/libtcm_debug.so.1 is not a symbolic link\n",
            "\n",
            "/sbin/ldconfig.real: /usr/local/lib/libtcm.so.1 is not a symbolic link\n",
            "\n",
            "/sbin/ldconfig.real: /usr/local/lib/libtbbbind_2_5.so.3 is not a symbolic link\n",
            "\n",
            "/sbin/ldconfig.real: /usr/local/lib/libtbbmalloc_proxy.so.2 is not a symbolic link\n",
            "\n",
            "/sbin/ldconfig.real: /usr/local/lib/libtbbmalloc.so.2 is not a symbolic link\n",
            "\n",
            "/sbin/ldconfig.real: /usr/local/lib/libur_adapter_level_zero.so.0 is not a symbolic link\n",
            "\n",
            "/sbin/ldconfig.real: /usr/local/lib/libur_loader.so.0 is not a symbolic link\n",
            "\n"
          ]
        }
      ],
      "source": [
        "!pip install -q pyomo\n",
        "!pip install -q gradio\n",
        "!apt-get install -y -qq glpk-utils"
      ]
    },
    {
      "cell_type": "markdown",
      "source": [
        "We will use `gradio` to create a simple UI for the demo. Let's import the necessary packages."
      ],
      "metadata": {
        "id": "Bp1z9_jdwYj0"
      }
    },
    {
      "cell_type": "code",
      "execution_count": 3,
      "metadata": {
        "id": "e200MmBU2aLT"
      },
      "outputs": [],
      "source": [
        "import numpy as np\n",
        "import pandas as pd\n",
        "import gradio as gr"
      ]
    },
    {
      "cell_type": "markdown",
      "metadata": {
        "id": "uQheRaw5YVTL"
      },
      "source": [
        "## Creating Gradio Interface\n",
        "Gradio is a Python library for building and sharing custom web interfaces for machine learning models. It is a great tool for prototyping and demonstrating the functionality of the model.\n",
        "\n",
        "Suppose we want to create a simple UI that allows the user to upload an Excel file, visualize the data, and solve the model. Let's create a gradio interface that allows the user to do that.\n",
        "\n",
        "Let's begin with creating the upload interface. We will use `gr.File` to create the upload interface."
      ]
    },
    {
      "cell_type": "code",
      "source": [
        "with gr.Blocks() as demo:\n",
        "\n",
        "    gr.Markdown(\"Upload an Excel file\")\n",
        "\n",
        "    file_input = gr.File(\n",
        "        label=\"Upload an .xlsx file\",\n",
        "        file_types=[\".xlsx\"],\n",
        "        type=\"filepath\"\n",
        "    )"
      ],
      "metadata": {
        "id": "Ps5I08KcbeVa"
      },
      "execution_count": 4,
      "outputs": []
    },
    {
      "cell_type": "markdown",
      "source": [
        "What we did here is to initiate a `demo` object using `gr.Blocks()`. It is a container for the UI components.\n",
        "\n",
        "As part of that container, we added\n",
        "- a `gr.Markdown` component to display a title.\n",
        "- a `gr.File` component to allow the user to upload an Excel file.\n",
        "  \n",
        "We can set what the helper text should read, the file types we want to accept, the type of the file, etc.\n",
        "\n",
        "Then, we can run the demo using `demo.launch()`."
      ],
      "metadata": {
        "id": "7d6ZYkybcSL_"
      }
    },
    {
      "cell_type": "code",
      "source": [
        "demo.launch()"
      ],
      "metadata": {
        "colab": {
          "base_uri": "https://localhost:8080/",
          "height": 645
        },
        "id": "ZtefnMgmbh6O",
        "outputId": "ac89d182-c796-4780-e8e9-556cdba506be"
      },
      "execution_count": 5,
      "outputs": [
        {
          "output_type": "stream",
          "name": "stdout",
          "text": [
            "Running Gradio in a Colab notebook requires sharing enabled. Automatically setting `share=True` (you can turn this off by setting `share=False` in `launch()` explicitly).\n",
            "\n",
            "Colab notebook detected. To show errors in colab notebook, set debug=True in launch()\n",
            "* Running on public URL: https://6dc482c11eec745d26.gradio.live\n",
            "\n",
            "This share link expires in 72 hours. For free permanent hosting and GPU upgrades, run `gradio deploy` from the terminal in the working directory to deploy to Hugging Face Spaces (https://huggingface.co/spaces)\n"
          ]
        },
        {
          "output_type": "display_data",
          "data": {
            "text/plain": [
              "<IPython.core.display.HTML object>"
            ],
            "text/html": [
              "<div><iframe src=\"https://6dc482c11eec745d26.gradio.live\" width=\"100%\" height=\"500\" allow=\"autoplay; camera; microphone; clipboard-read; clipboard-write;\" frameborder=\"0\" allowfullscreen></iframe></div>"
            ]
          },
          "metadata": {}
        },
        {
          "output_type": "execute_result",
          "data": {
            "text/plain": []
          },
          "metadata": {},
          "execution_count": 5
        }
      ]
    },
    {
      "cell_type": "markdown",
      "source": [
        "By default, the demo will be launched in localhost and generate a public link. We can set `share=False` to disable the public link."
      ],
      "metadata": {
        "id": "xG4jV8u7cm_J"
      }
    },
    {
      "cell_type": "code",
      "source": [
        "demo.launch(share=False)"
      ],
      "metadata": {
        "colab": {
          "base_uri": "https://localhost:8080/",
          "height": 650
        },
        "id": "3BwnYTWXcnUb",
        "outputId": "9cf45d6b-4b8c-4ed5-eaa2-83bec36fd541"
      },
      "execution_count": 6,
      "outputs": [
        {
          "output_type": "stream",
          "name": "stdout",
          "text": [
            "Rerunning server... use `close()` to stop if you need to change `launch()` parameters.\n",
            "----\n",
            "Colab notebook detected. To show errors in colab notebook, set debug=True in launch()\n",
            "Note: opening Chrome Inspector may crash demo inside Colab notebooks.\n",
            "\n",
            "To create a public link, set `share=True` in `launch()`.\n"
          ]
        },
        {
          "output_type": "display_data",
          "data": {
            "text/plain": [
              "<IPython.core.display.Javascript object>"
            ],
            "application/javascript": [
              "(async (port, path, width, height, cache, element) => {\n",
              "                        if (!google.colab.kernel.accessAllowed && !cache) {\n",
              "                            return;\n",
              "                        }\n",
              "                        element.appendChild(document.createTextNode(''));\n",
              "                        const url = await google.colab.kernel.proxyPort(port, {cache});\n",
              "\n",
              "                        const external_link = document.createElement('div');\n",
              "                        external_link.innerHTML = `\n",
              "                            <div style=\"font-family: monospace; margin-bottom: 0.5rem\">\n",
              "                                Running on <a href=${new URL(path, url).toString()} target=\"_blank\">\n",
              "                                    https://localhost:${port}${path}\n",
              "                                </a>\n",
              "                            </div>\n",
              "                        `;\n",
              "                        element.appendChild(external_link);\n",
              "\n",
              "                        const iframe = document.createElement('iframe');\n",
              "                        iframe.src = new URL(path, url).toString();\n",
              "                        iframe.height = height;\n",
              "                        iframe.allow = \"autoplay; camera; microphone; clipboard-read; clipboard-write;\"\n",
              "                        iframe.width = width;\n",
              "                        iframe.style.border = 0;\n",
              "                        element.appendChild(iframe);\n",
              "                    })(7860, \"/\", \"100%\", 500, false, window.element)"
            ]
          },
          "metadata": {}
        },
        {
          "output_type": "execute_result",
          "data": {
            "text/plain": []
          },
          "metadata": {},
          "execution_count": 6
        }
      ]
    },
    {
      "cell_type": "markdown",
      "source": [
        "Let's create a more complete interface by adding the following components:\n",
        "- a `gr.Dataframe` component to display the data.\n",
        "- a `gr.Button` component to allow the user to click and trigger various events"
      ],
      "metadata": {
        "id": "fr1T-PkddX6q"
      }
    },
    {
      "cell_type": "code",
      "source": [
        "with gr.Blocks() as demo:\n",
        "    gr.Markdown(\"Upload an Excel file\")\n",
        "    file_input = gr.File(\n",
        "        label=\"Upload an .xlsx file\",\n",
        "        file_types=[\".xlsx\"],\n",
        "        type=\"filepath\"\n",
        "    )\n",
        "\n",
        "    gr.Markdown(\"Verify the data\")\n",
        "    data_output_df = gr.Dataframe(\n",
        "        label=\"Data\",\n",
        "        wrap=True,\n",
        "    )\n",
        "    data_output_params = gr.Dataframe(\n",
        "        label=\"Data\",\n",
        "        wrap=True,\n",
        "    )\n",
        "\n",
        "    gr.Button(\"Solve the model\")\n",
        "    gr.Markdown(\"Solution\")\n",
        "    solution_output = gr.Dataframe(\n",
        "        label=\"Solution\",\n",
        "        wrap=True,\n",
        "    )\n",
        "    gr.Button(\"Download the solution\")"
      ],
      "metadata": {
        "id": "cV0WTMBxco5a"
      },
      "execution_count": 7,
      "outputs": []
    },
    {
      "cell_type": "markdown",
      "source": [
        "Let's see how it looks like now."
      ],
      "metadata": {
        "id": "xrS6MjdPdhxe"
      }
    },
    {
      "cell_type": "code",
      "source": [
        "demo.launch()"
      ],
      "metadata": {
        "colab": {
          "base_uri": "https://localhost:8080/",
          "height": 645
        },
        "id": "T3W3Y7CCdeer",
        "outputId": "2c55c5eb-b1c5-4e23-9ab7-c0f04a82f1c6"
      },
      "execution_count": 8,
      "outputs": [
        {
          "output_type": "stream",
          "name": "stdout",
          "text": [
            "Running Gradio in a Colab notebook requires sharing enabled. Automatically setting `share=True` (you can turn this off by setting `share=False` in `launch()` explicitly).\n",
            "\n",
            "Colab notebook detected. To show errors in colab notebook, set debug=True in launch()\n",
            "* Running on public URL: https://b24a4c3f2934c800d5.gradio.live\n",
            "\n",
            "This share link expires in 72 hours. For free permanent hosting and GPU upgrades, run `gradio deploy` from the terminal in the working directory to deploy to Hugging Face Spaces (https://huggingface.co/spaces)\n"
          ]
        },
        {
          "output_type": "display_data",
          "data": {
            "text/plain": [
              "<IPython.core.display.HTML object>"
            ],
            "text/html": [
              "<div><iframe src=\"https://b24a4c3f2934c800d5.gradio.live\" width=\"100%\" height=\"500\" allow=\"autoplay; camera; microphone; clipboard-read; clipboard-write;\" frameborder=\"0\" allowfullscreen></iframe></div>"
            ]
          },
          "metadata": {}
        },
        {
          "output_type": "execute_result",
          "data": {
            "text/plain": []
          },
          "metadata": {},
          "execution_count": 8
        }
      ]
    },
    {
      "cell_type": "markdown",
      "source": [
        "Great! Let's now add a function to load the data after the upload is complete. We add a callback function to the `file_input` component."
      ],
      "metadata": {
        "id": "rxeL--u-eKdg"
      }
    },
    {
      "cell_type": "code",
      "source": [
        "def load_data(file_input):\n",
        "    df = pd.read_excel(file_input, sheet_name='data', index_col=0)\n",
        "    params = pd.read_excel(file_input, sheet_name='params')\n",
        "    return df, params"
      ],
      "metadata": {
        "id": "p4Pz_p8sdmOS"
      },
      "execution_count": 9,
      "outputs": []
    },
    {
      "cell_type": "markdown",
      "source": [
        "Let's add this into our interface."
      ],
      "metadata": {
        "id": "s0JB11KpeRvA"
      }
    },
    {
      "cell_type": "code",
      "source": [
        "with gr.Blocks() as demo:\n",
        "    gr.Markdown(\"Upload an Excel file\")\n",
        "    file_input = gr.File(\n",
        "        label=\"Upload an .xlsx file\",\n",
        "        file_types=[\".xlsx\"],\n",
        "        type=\"filepath\"\n",
        "    )\n",
        "    gr.Markdown(\"Verify the data\")\n",
        "    data_output_df = gr.Dataframe(\n",
        "        label=\"Data\",\n",
        "        wrap=True,\n",
        "    )\n",
        "    data_output_params = gr.Dataframe(\n",
        "        label=\"Data\",\n",
        "        wrap=True,\n",
        "    )\n",
        "\n",
        "    file_input.change(load_data, inputs=file_input, outputs=[data_output_df, data_output_params])\n",
        "\n",
        "demo.launch()"
      ],
      "metadata": {
        "colab": {
          "base_uri": "https://localhost:8080/",
          "height": 645
        },
        "id": "4_WSShipeNog",
        "outputId": "618fc8c2-ff59-49e9-9f78-0d0a639e952a"
      },
      "execution_count": 10,
      "outputs": [
        {
          "output_type": "stream",
          "name": "stdout",
          "text": [
            "Running Gradio in a Colab notebook requires sharing enabled. Automatically setting `share=True` (you can turn this off by setting `share=False` in `launch()` explicitly).\n",
            "\n",
            "Colab notebook detected. To show errors in colab notebook, set debug=True in launch()\n",
            "* Running on public URL: https://430743ee67c282e9a7.gradio.live\n",
            "\n",
            "This share link expires in 72 hours. For free permanent hosting and GPU upgrades, run `gradio deploy` from the terminal in the working directory to deploy to Hugging Face Spaces (https://huggingface.co/spaces)\n"
          ]
        },
        {
          "output_type": "display_data",
          "data": {
            "text/plain": [
              "<IPython.core.display.HTML object>"
            ],
            "text/html": [
              "<div><iframe src=\"https://430743ee67c282e9a7.gradio.live\" width=\"100%\" height=\"500\" allow=\"autoplay; camera; microphone; clipboard-read; clipboard-write;\" frameborder=\"0\" allowfullscreen></iframe></div>"
            ]
          },
          "metadata": {}
        },
        {
          "output_type": "execute_result",
          "data": {
            "text/plain": []
          },
          "metadata": {},
          "execution_count": 10
        }
      ]
    },
    {
      "cell_type": "markdown",
      "source": [
        "Similar to the V&V notebook, let's now wrap the model creation in a function that takes the data and parameters as inputs and returns the model object. Let's start with the function to format the data and parameters to be used in the model."
      ],
      "metadata": {
        "id": "kdaFf5p7lT5w"
      }
    },
    {
      "cell_type": "code",
      "source": [
        "def preprocess_data(df_data, df_params):\n",
        "    df = df_data.to_dict()\n",
        "    params = df_params.to_dict(orient='list')\n",
        "    params = {name_: value_ for name_, value_ in zip(params[\"name\"], params[\"val\"])}\n",
        "    return df, params"
      ],
      "metadata": {
        "id": "FvXn2wboe6Zi"
      },
      "execution_count": 11,
      "outputs": []
    },
    {
      "cell_type": "code",
      "source": [
        "import pyomo.environ as pyo\n",
        "\n",
        "model = pyo.ConcreteModel()\n",
        "\n",
        "\n",
        "#define the set of products\n",
        "model.I = pyo.Set(initialize=[1, 2, 3])\n",
        "\n",
        "model.pprint()"
      ],
      "metadata": {
        "colab": {
          "base_uri": "https://localhost:8080/"
        },
        "id": "xXPlvCVwqyAh",
        "outputId": "84e374cc-2163-440c-80e6-c03b7dbcb805"
      },
      "execution_count": 12,
      "outputs": [
        {
          "output_type": "stream",
          "name": "stdout",
          "text": [
            "1 Set Declarations\n",
            "    I : Size=1, Index=None, Ordered=Insertion\n",
            "        Key  : Dimen : Domain : Size : Members\n",
            "        None :     1 :    Any :    3 : {1, 2, 3}\n",
            "\n",
            "1 Declarations: I\n"
          ]
        }
      ]
    },
    {
      "cell_type": "markdown",
      "source": [
        "Let's now create the model-building function."
      ],
      "metadata": {
        "id": "IChelX8Jlccr"
      }
    },
    {
      "cell_type": "code",
      "source": [
        "def build_production_planning_model(df, params, initial_values=0.0):\n",
        "    #initiate the model\n",
        "    model = pyo.ConcreteModel()\n",
        "\n",
        "\n",
        "    #define the set of products\n",
        "    model.I = pyo.Set(initialize=[0, 1, 2])\n",
        "\n",
        "\n",
        "    #define the decision variables\n",
        "    model.x = pyo.Var(model.I, domain=pyo.Reals, initialize=initial_values)\n",
        "\n",
        "\n",
        "    #define the parameters\n",
        "    model.r = pyo.Param(model.I, initialize=df['revenue'])\n",
        "    model.c = pyo.Param(model.I, initialize=df['cost'])\n",
        "    model.p = pyo.Param(model.I, initialize=df['production_capacity'])\n",
        "    model.b = pyo.Param(initialize=params['budget'])\n",
        "    model.s = pyo.Param(initialize=params['capacity'])\n",
        "\n",
        "    #define useful expressions\n",
        "    model.total_revenue = pyo.Expression(rule=lambda model: sum(model.r[i] * model.x[i] for i in model.I))\n",
        "    model.total_cost = pyo.Expression(rule=lambda model: sum(model.c[i] * model.x[i] for i in model.I))\n",
        "\n",
        "\n",
        "    #define the objective function\n",
        "    def f(model):\n",
        "        return model.total_revenue - model.total_cost\n",
        "\n",
        "    model.obj = pyo.Objective(rule=f, sense=pyo.maximize)\n",
        "\n",
        "\n",
        "    #define the constraints\n",
        "    def budget_constraint(model):\n",
        "        return sum(model.c[i] * model.x[i] for i in model.I) <= model.b\n",
        "    model.budget_constraint = pyo.Constraint(rule=budget_constraint)\n",
        "\n",
        "    def storage_capacity(model):\n",
        "        return sum(model.x[i] for i in model.I) <= model.s\n",
        "    model.storage_capacity = pyo.Constraint(rule=storage_capacity)\n",
        "\n",
        "    def production_capacity(model, i):\n",
        "        return model.x[i] <= model.p[i]\n",
        "    model.production_capacity = pyo.Constraint(model.I, rule=production_capacity)\n",
        "\n",
        "    def nonnegative_domain(model, i):\n",
        "        return model.x[i] >= 0\n",
        "    model.nonnegative_domain = pyo.Constraint(model.I, rule=nonnegative_domain)\n",
        "\n",
        "    return model"
      ],
      "metadata": {
        "id": "tyIrc93ElaHP"
      },
      "execution_count": 13,
      "outputs": []
    },
    {
      "cell_type": "markdown",
      "source": [
        "Finally, let's solve the model. We will use the `pyomo` package to solve the model and extract the solution into a DataFrame."
      ],
      "metadata": {
        "id": "RqQVVw-mlnxg"
      }
    },
    {
      "cell_type": "code",
      "source": [
        "def solve_model(model):\n",
        "    solver = pyo.SolverFactory('glpk', executable='/usr/bin/glpsol')\n",
        "    result = solver.solve(model, tee=True)\n",
        "\n",
        "    if result.solver.termination_condition == pyo.TerminationCondition.optimal:\n",
        "        x_opt_dict = {\"i\" : {i: i for i in model.I},\n",
        "                      \"x_opt\" : {i: pyo.value(model.x[i]) for i in model.I}\n",
        "                      }\n",
        "\n",
        "        df = pd.DataFrame(x_opt_dict)\n",
        "        file = df.to_excel(\"solution.xlsx\")\n",
        "        return  df, \"solution.xlsx\"\n",
        "    else:\n",
        "        #return a DataFrame with empty columns\n",
        "        return pd.DataFrame(columns=model.I), None\n",
        "\n"
      ],
      "metadata": {
        "id": "qt0btzFulhqJ"
      },
      "execution_count": 14,
      "outputs": []
    },
    {
      "cell_type": "markdown",
      "source": [
        "Let's now create a function to tie all the components together and display the solution when the user clicks the \"Solve the model\" button."
      ],
      "metadata": {
        "id": "lZk9GdeImu12"
      }
    },
    {
      "cell_type": "code",
      "source": [
        "def solve_and_display_solution(df_data, df_params):\n",
        "    df, params = preprocess_data(df_data, df_params)\n",
        "    model = build_production_planning_model(df, params, initial_values=0.0)\n",
        "    solution, file = solve_model(model)\n",
        "    return solution, file"
      ],
      "metadata": {
        "id": "jhV4IIXimyAY"
      },
      "execution_count": 15,
      "outputs": []
    },
    {
      "cell_type": "markdown",
      "source": [
        "Let's integrate the components together and run the demo."
      ],
      "metadata": {
        "id": "J77fE1PemzRG"
      }
    },
    {
      "cell_type": "code",
      "source": [
        "with gr.Blocks() as demo:\n",
        "    gr.Markdown(\"Upload an Excel file\")\n",
        "    file_input = gr.File(\n",
        "        label=\"Upload an .xlsx file\",\n",
        "        file_types=[\".xlsx\"],\n",
        "        type=\"filepath\"\n",
        "    )\n",
        "\n",
        "    gr.Markdown(\"Verify the data\")\n",
        "    data_output_df = gr.Dataframe(\n",
        "        label=\"Data\",\n",
        "        wrap=True,\n",
        "    )\n",
        "    data_output_params = gr.Dataframe(\n",
        "        label=\"Data\",\n",
        "        wrap=True,\n",
        "    )\n",
        "\n",
        "    solve_button = gr.Button(\"Solve the model\")\n",
        "    gr.Markdown(\"Solution\")\n",
        "    solution_output = gr.Dataframe(\n",
        "        label=\"Solution\",\n",
        "        wrap=True,\n",
        "    )\n",
        "    file_output = gr.File(label=\"Download Solution\")\n",
        "\n",
        "    file_input.change(load_data, inputs=file_input, outputs=[data_output_df, data_output_params])\n",
        "    solve_button.click(solve_and_display_solution, inputs=[data_output_df, data_output_params], outputs=[solution_output, file_output])\n",
        "\n",
        "demo.launch()"
      ],
      "metadata": {
        "colab": {
          "base_uri": "https://localhost:8080/",
          "height": 645
        },
        "id": "5y67eq6pmRin",
        "outputId": "24f37a57-b913-4578-882f-29ef2a39578d"
      },
      "execution_count": 16,
      "outputs": [
        {
          "output_type": "stream",
          "name": "stdout",
          "text": [
            "Running Gradio in a Colab notebook requires sharing enabled. Automatically setting `share=True` (you can turn this off by setting `share=False` in `launch()` explicitly).\n",
            "\n",
            "Colab notebook detected. To show errors in colab notebook, set debug=True in launch()\n",
            "* Running on public URL: https://2cdc67cac8b5c1d5a0.gradio.live\n",
            "\n",
            "This share link expires in 72 hours. For free permanent hosting and GPU upgrades, run `gradio deploy` from the terminal in the working directory to deploy to Hugging Face Spaces (https://huggingface.co/spaces)\n"
          ]
        },
        {
          "output_type": "display_data",
          "data": {
            "text/plain": [
              "<IPython.core.display.HTML object>"
            ],
            "text/html": [
              "<div><iframe src=\"https://2cdc67cac8b5c1d5a0.gradio.live\" width=\"100%\" height=\"500\" allow=\"autoplay; camera; microphone; clipboard-read; clipboard-write;\" frameborder=\"0\" allowfullscreen></iframe></div>"
            ]
          },
          "metadata": {}
        },
        {
          "output_type": "execute_result",
          "data": {
            "text/plain": []
          },
          "metadata": {},
          "execution_count": 16
        }
      ]
    },
    {
      "cell_type": "markdown",
      "source": [
        "## Conclusion\n",
        "\n",
        "In this notebook, we have demonstrated how to create a simple Gradio interface to demo key functionalities in the model we develop (upload an Excel file, verify the data, solve the model, and download the solution)."
      ],
      "metadata": {
        "id": "31VE-R5600h3"
      }
    },
    {
      "cell_type": "code",
      "source": [],
      "metadata": {
        "id": "zLmkf6HEuLdA"
      },
      "execution_count": 16,
      "outputs": []
    }
  ],
  "metadata": {
    "colab": {
      "provenance": []
    },
    "kernelspec": {
      "display_name": "Python 3",
      "name": "python3"
    }
  },
  "nbformat": 4,
  "nbformat_minor": 0
}