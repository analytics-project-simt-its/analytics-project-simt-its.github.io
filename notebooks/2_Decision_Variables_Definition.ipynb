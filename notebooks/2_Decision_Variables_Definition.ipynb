{
 "cells": [
  {
   "cell_type": "markdown",
   "metadata": {},
   "source": [
    "# 2. Decision Variables for Optimization Models\n",
    "\n",
    "This notebook is part of a step-by-step guide to creating an optimization model. We continue our 7-step procedure:\n",
    "\n",
    "1. ✓ Import Pyomo and Define the Sets\n",
    "2. ➡️ Define the Decision Variables\n",
    "3. Define the Parameters\n",
    "4. Define the Expressions\n",
    "5. Define the Objective Function\n",
    "6. Define the Constraints\n",
    "7. Solve the Model\n",
    "\n",
    "In this notebook, we will explore different types of decision variables and how to define them in Pyomo. Decision variables are the unknowns in our optimization problem that we want to determine. They represent quantities that we can control or adjust to achieve our objective.\n",
    "\n",
    "We will cover:\n",
    "- Continuous variables (NonNegativeReals)\n",
    "- Binary variables\n",
    "- Integer variables\n",
    "- Variables with bounds\n",
    "- Indexed variables using sets\n",
    "- Common expressions using variables"
   ]
  },
  {
   "cell_type": "markdown",
   "metadata": {},
   "source": [
    "## Setup: Importing Pyomo and Creating a Model\n",
    "\n",
    "As in the previous notebook, we start by importing Pyomo and creating a concrete model:"
   ]
  },
  {
   "cell_type": "code",
   "execution_count": 1,
   "metadata": {},
   "outputs": [],
   "source": [
    "import pyomo.environ as pyo\n",
    "\n",
    "# Create a concrete model\n",
    "m = pyo.ConcreteModel()"
   ]
  },
  {
   "cell_type": "markdown",
   "metadata": {},
   "source": [
    "## Types of Decision Variables\n",
    "\n",
    "In optimization problems, we often encounter different types of decision variables. Here are the main types:\n",
    "\n",
    "1. Continuous Variables:\n",
    "   - Can take any real value (possibly within bounds)\n",
    "   - Example: Amount of raw materials to purchase\n",
    "\n",
    "2. Binary Variables:\n",
    "   - Can only take values 0 or 1\n",
    "   - Often used for yes/no decisions\n",
    "   - Example: Whether to build a facility at a location\n",
    "\n",
    "3. Integer Variables:\n",
    "   - Can only take integer values\n",
    "   - Example: Number of machines to purchase\n",
    "\n",
    "Let's explore how to create each type in Pyomo."
   ]
  },
  {
   "cell_type": "markdown",
   "metadata": {},
   "source": [
    "### 1. Continuous Variables\n",
    "\n",
    "Let's start with continuous variables. We'll create two sets and some continuous variables:"
   ]
  },
  {
   "cell_type": "code",
   "execution_count": 2,
   "metadata": {},
   "outputs": [],
   "source": [
    "# Create sets for products and machines\n",
    "m.I = pyo.Set(initialize=['P1', 'P2', 'P3'])  # Products\n",
    "m.J = pyo.Set(initialize=['M1', 'M2'])       # Machines\n",
    "\n",
    "# Production amount for each product (non-negative continuous)\n",
    "m.x = pyo.Var(m.I, domain=pyo.NonNegativeReals)\n",
    "\n",
    "# Production time allocated to each product on each machine\n",
    "m.y = pyo.Var(m.I, m.J, domain=pyo.NonNegativeReals)"
   ]
  },
  {
   "cell_type": "markdown",
   "metadata": {},
   "source": [
    "Note here that we have two sets, $I$ and $J$. The first set $I$ is the set of products, and the second set $J$ is the set of machines. The decision variable $x$ is indexed by the set $I$, and the decision variable $y$ is indexed by the sets $I$ and $J$. That means, we have:\n",
    "\n",
    "- $x_i$ for $i \\in I$. For example, $x_{P1}$ is the production amount for product $P1$.\n",
    "- $y_{i,j}$ for $i \\in I$ and $j \\in J$. For example, $y_{P1,M1}$ is the production time allocated to product $P1$ on machine $M1$.\n",
    "\n",
    "Let's examine what we created:"
   ]
  },
  {
   "cell_type": "code",
   "execution_count": 3,
   "metadata": {},
   "outputs": [
    {
     "name": "stdout",
     "output_type": "stream",
     "text": [
      "Products: ['P1', 'P2', 'P3']\n",
      "Machines: ['M1', 'M2']\n"
     ]
    }
   ],
   "source": [
    "# Print the sets\n",
    "print(f\"Products: {[i for i in m.I]}\")\n",
    "print(f\"Machines: {[j for j in m.J]}\")"
   ]
  },
  {
   "cell_type": "code",
   "execution_count": 4,
   "metadata": {},
   "outputs": [
    {
     "name": "stdout",
     "output_type": "stream",
     "text": [
      "x[P1]\n",
      "x[P2]\n",
      "x[P3]\n"
     ]
    }
   ],
   "source": [
    "# Print the x variables\n",
    "for i in m.I:\n",
    "    print(m.x[i])"
   ]
  },
  {
   "cell_type": "code",
   "execution_count": 5,
   "metadata": {},
   "outputs": [
    {
     "name": "stdout",
     "output_type": "stream",
     "text": [
      "y[P1,M1]\n",
      "y[P1,M2]\n",
      "y[P2,M1]\n",
      "y[P2,M2]\n",
      "y[P3,M1]\n",
      "y[P3,M2]\n"
     ]
    }
   ],
   "source": [
    "# Print the t variables\n",
    "for i in m.I:\n",
    "    for j in m.J:\n",
    "        print(m.y[i,j])"
   ]
  },
  {
   "cell_type": "markdown",
   "metadata": {},
   "source": [
    "Similar with the previous notebook, we can assign initial values to these variables. Let's create a dictionary for the initial values for $x$ and $y$:"
   ]
  },
  {
   "cell_type": "code",
   "execution_count": 6,
   "metadata": {},
   "outputs": [],
   "source": [
    "init_x = {\n",
    "    'P1': 100, 'P2': 150, 'P3': 200\n",
    "}\n",
    "\n",
    "init_y = {\n",
    "    ('P1','M1'): 10, ('P1','M2'): 5,\n",
    "    ('P2','M1'): 15, ('P2','M2'): 10,\n",
    "    ('P3','M1'): 20, ('P3','M2'): 15\n",
    "}\n"
   ]
  },
  {
   "cell_type": "markdown",
   "metadata": {},
   "source": [
    "We can then initialize the variables with these values:"
   ]
  },
  {
   "cell_type": "code",
   "execution_count": 7,
   "metadata": {},
   "outputs": [],
   "source": [
    "m = pyo.ConcreteModel()\n",
    "m.I = pyo.Set(initialize=['P1', 'P2', 'P3'])  # Products\n",
    "m.J = pyo.Set(initialize=['M1', 'M2'])       # Machines\n",
    "m.x = pyo.Var(m.I, initialize=init_x)\n",
    "m.y = pyo.Var(m.I, m.J, initialize=init_y)"
   ]
  },
  {
   "cell_type": "markdown",
   "metadata": {},
   "source": [
    "Note that it is much easier to assign initial values to the variables using the dictionaries, since we do not need to use lambda functions. Instead, we can directly assign the values to the variables, as long as we have the correct indices. \n",
    "\n",
    "We can print the model to see the initial values:"
   ]
  },
  {
   "cell_type": "code",
   "execution_count": 8,
   "metadata": {},
   "outputs": [
    {
     "name": "stdout",
     "output_type": "stream",
     "text": [
      "2 Set Declarations\n",
      "    I : Size=1, Index=None, Ordered=Insertion\n",
      "        Key  : Dimen : Domain : Size : Members\n",
      "        None :     1 :    Any :    3 : {'P1', 'P2', 'P3'}\n",
      "    J : Size=1, Index=None, Ordered=Insertion\n",
      "        Key  : Dimen : Domain : Size : Members\n",
      "        None :     1 :    Any :    2 : {'M1', 'M2'}\n",
      "\n",
      "2 Var Declarations\n",
      "    x : Size=3, Index=I\n",
      "        Key : Lower : Value : Upper : Fixed : Stale : Domain\n",
      "         P1 :  None :   100 :  None : False : False :  Reals\n",
      "         P2 :  None :   150 :  None : False : False :  Reals\n",
      "         P3 :  None :   200 :  None : False : False :  Reals\n",
      "    y : Size=6, Index=I*J\n",
      "        Key          : Lower : Value : Upper : Fixed : Stale : Domain\n",
      "        ('P1', 'M1') :  None :    10 :  None : False : False :  Reals\n",
      "        ('P1', 'M2') :  None :     5 :  None : False : False :  Reals\n",
      "        ('P2', 'M1') :  None :    15 :  None : False : False :  Reals\n",
      "        ('P2', 'M2') :  None :    10 :  None : False : False :  Reals\n",
      "        ('P3', 'M1') :  None :    20 :  None : False : False :  Reals\n",
      "        ('P3', 'M2') :  None :    15 :  None : False : False :  Reals\n",
      "\n",
      "4 Declarations: I J x y\n"
     ]
    }
   ],
   "source": [
    "m.pprint()"
   ]
  },
  {
   "cell_type": "markdown",
   "metadata": {},
   "source": [
    "Similar as in the previous notebook, we can do summation of the variables using the `sum` with indices."
   ]
  },
  {
   "cell_type": "code",
   "execution_count": 9,
   "metadata": {},
   "outputs": [
    {
     "name": "stdout",
     "output_type": "stream",
     "text": [
      "Sum of x for i in I:  x[P1] + x[P2] + x[P3]\n",
      "The value of the sum is:  450\n"
     ]
    }
   ],
   "source": [
    "print(\"Sum of x for i in I: \", sum(m.x[i] for i in m.I))\n",
    "print(\"The value of the sum is: \", sum(m.x[i]() for i in m.I))"
   ]
  },
  {
   "cell_type": "markdown",
   "metadata": {},
   "source": [
    "Similarly, for two indices, we can do the following:"
   ]
  },
  {
   "cell_type": "code",
   "execution_count": 10,
   "metadata": {},
   "outputs": [
    {
     "name": "stdout",
     "output_type": "stream",
     "text": [
      "Sum of y for i in I and j in J:  y[P1,M1] + y[P1,M2] + y[P2,M1] + y[P2,M2] + y[P3,M1] + y[P3,M2]\n",
      "The value of the sum is:  75\n"
     ]
    }
   ],
   "source": [
    "print(\"Sum of y for i in I and j in J: \", sum(m.y[i,j] for i in m.I for j in m.J))\n",
    "print(\"The value of the sum is: \", sum(m.y[i,j]() for i in m.I for j in m.J))\n"
   ]
  },
  {
   "cell_type": "markdown",
   "metadata": {},
   "source": [
    "We can also multiply the variables and sum them up. We can store the result in a new variable."
   ]
  },
  {
   "cell_type": "code",
   "execution_count": 11,
   "metadata": {},
   "outputs": [],
   "source": [
    "sum_x_y = sum(m.x[i] * m.y[i,j] for i in m.I for j in m.J)"
   ]
  },
  {
   "cell_type": "markdown",
   "metadata": {},
   "source": [
    "We can then print and show the value of the sum:"
   ]
  },
  {
   "cell_type": "code",
   "execution_count": 12,
   "metadata": {},
   "outputs": [
    {
     "name": "stdout",
     "output_type": "stream",
     "text": [
      "The sum product is:  x[P1]*y[P1,M1] + x[P1]*y[P1,M2] + x[P2]*y[P2,M1] + x[P2]*y[P2,M2] + x[P3]*y[P3,M1] + x[P3]*y[P3,M2]\n",
      "The value of the sum product is:  12250\n"
     ]
    }
   ],
   "source": [
    "print(\"The sum product is: \", sum_x_y)\n",
    "print(\"The value of the sum product is: \", sum_x_y())\n"
   ]
  },
  {
   "cell_type": "markdown",
   "metadata": {},
   "source": [
    "### 2. Binary Variables\n",
    "\n",
    "Binary variables are useful for yes/no decisions. Let's create some binary variables to represent whether we use a machine for a product:"
   ]
  },
  {
   "cell_type": "code",
   "execution_count": 13,
   "metadata": {},
   "outputs": [],
   "source": [
    "# Initialize the variables\n",
    "init_z = {\n",
    "    ('P1','M1'): 1, ('P1','M2'): 0,\n",
    "    ('P2','M1'): 1, ('P2','M2'): 1,\n",
    "    ('P3','M1'): 0, ('P3','M2'): 1\n",
    "}\n",
    "\n",
    "# Binary variable: 1 if machine j is used for product i, 0 otherwise\n",
    "m.z = pyo.Var(m.I, m.J, domain=pyo.Binary, initialize=init_z)"
   ]
  },
  {
   "cell_type": "markdown",
   "metadata": {},
   "source": [
    "We can print the variables to see the initial values:"
   ]
  },
  {
   "cell_type": "code",
   "execution_count": 14,
   "metadata": {},
   "outputs": [
    {
     "name": "stdout",
     "output_type": "stream",
     "text": [
      "z : Size=6, Index=I*J\n",
      "    Key          : Lower : Value : Upper : Fixed : Stale : Domain\n",
      "    ('P1', 'M1') :     0 :     1 :     1 : False : False : Binary\n",
      "    ('P1', 'M2') :     0 :     0 :     1 : False : False : Binary\n",
      "    ('P2', 'M1') :     0 :     1 :     1 : False : False : Binary\n",
      "    ('P2', 'M2') :     0 :     1 :     1 : False : False : Binary\n",
      "    ('P3', 'M1') :     0 :     0 :     1 : False : False : Binary\n",
      "    ('P3', 'M2') :     0 :     1 :     1 : False : False : Binary\n"
     ]
    }
   ],
   "source": [
    "m.z.pprint()"
   ]
  },
  {
   "cell_type": "markdown",
   "metadata": {},
   "source": [
    "`pprint()` is a useful function to print Pyomo model and its components in a readable format."
   ]
  },
  {
   "cell_type": "markdown",
   "metadata": {},
   "source": [
    "### 3. Integer Variables\n",
    "\n",
    "Integer variables are useful when we need whole number solutions. Let's create some integer variables for the number of batches to produce:"
   ]
  },
  {
   "cell_type": "code",
   "execution_count": 15,
   "metadata": {},
   "outputs": [
    {
     "name": "stdout",
     "output_type": "stream",
     "text": [
      "b : Size=3, Index=I\n",
      "    Key : Lower : Value : Upper : Fixed : Stale : Domain\n",
      "     P1 :     0 :    10 :  None : False : False : NonNegativeIntegers\n",
      "     P2 :     0 :    15 :  None : False : False : NonNegativeIntegers\n",
      "     P3 :     0 :    20 :  None : False : False : NonNegativeIntegers\n"
     ]
    }
   ],
   "source": [
    "# Integer variable: number of batches to produce of each product\n",
    "\n",
    "# Set up the initial values\n",
    "init_b = {\n",
    "    'P1': 10, 'P2': 15, 'P3': 20\n",
    "}\n",
    "\n",
    "# Initialize the variables\n",
    "m.b = pyo.Var(m.I, domain=pyo.NonNegativeIntegers, initialize=init_b)\n",
    "\n",
    "# Print the variables\n",
    "m.b.pprint()"
   ]
  },
  {
   "cell_type": "markdown",
   "metadata": {},
   "source": [
    "### 4. Variables with Bounds\n",
    "\n",
    "We can add bounds to our variables. This is useful when we know the valid ranges for our variables:"
   ]
  },
  {
   "cell_type": "code",
   "execution_count": 16,
   "metadata": {},
   "outputs": [
    {
     "name": "stdout",
     "output_type": "stream",
     "text": [
      "w : Size=3, Index=I\n",
      "    Key : Lower : Value : Upper : Fixed : Stale : Domain\n",
      "     P1 :   100 :   100 :   500 : False : False : NonNegativeReals\n",
      "     P2 :   100 :   150 :   500 : False : False : NonNegativeReals\n",
      "     P3 :   100 :   200 :   500 : False : False : NonNegativeReals\n"
     ]
    }
   ],
   "source": [
    "# Production amount with minimum and maximum bounds\n",
    "init_w = {\n",
    "    'P1': 100, 'P2': 150, 'P3': 200\n",
    "}\n",
    "\n",
    "m.w = pyo.Var(m.I, domain=pyo.NonNegativeReals, initialize=init_w, bounds=(100,500))\n",
    "\n",
    "# Print the variables\n",
    "m.w.pprint()"
   ]
  },
  {
   "cell_type": "markdown",
   "metadata": {},
   "source": [
    "We can also create variables with different bounds for each index:"
   ]
  },
  {
   "cell_type": "code",
   "execution_count": 17,
   "metadata": {},
   "outputs": [
    {
     "name": "stdout",
     "output_type": "stream",
     "text": [
      "v : Size=2, Index=J\n",
      "    Key : Lower : Value : Upper : Fixed : Stale : Domain\n",
      "     M1 :   100 :   100 :   200 : False : False : NonNegativeReals\n",
      "     M2 :   150 :   150 :   300 : False : False : NonNegativeReals\n"
     ]
    }
   ],
   "source": [
    "# Dictionary of bounds for each machine\n",
    "bounds_v = {\n",
    "    'M1': (100, 200),\n",
    "    'M2': (150, 300),\n",
    "}\n",
    "\n",
    "# Dictionary for initial values\n",
    "init_v = {\n",
    "    'M1': 100, 'M2': 150,\n",
    "}\n",
    "\n",
    "# Production amount with machine-specific bounds\n",
    "m.v = pyo.Var(m.J, domain=pyo.NonNegativeReals, bounds=bounds_v, initialize=init_v)\n",
    "\n",
    "# Print the variables\n",
    "m.v.pprint()"
   ]
  },
  {
   "cell_type": "markdown",
   "metadata": {},
   "source": [
    "## Common Expressions Using Variables\n",
    "\n",
    "Now let's look at some common expressions we can create using these variables:\n",
    "\n",
    "### 1. Sum of Variables\n",
    "\n",
    "```python\n",
    "sum_x = sum(m.x[i] for i in m.I)\n",
    "```\n",
    "\n",
    "we can also use Pyomo's `summation` function to create the same expression:\n",
    "\n",
    "```python\n",
    "sum_x = pyo.summation(m.x)\n",
    "```\n"
   ]
  },
  {
   "cell_type": "code",
   "execution_count": 18,
   "metadata": {},
   "outputs": [
    {
     "name": "stdout",
     "output_type": "stream",
     "text": [
      "The sum of x is:  x[P1] + x[P2] + x[P3]\n",
      "The value of the sum of x is:  450\n"
     ]
    }
   ],
   "source": [
    "sum_x = pyo.summation(m.x)\n",
    "\n",
    "print(\"The sum of x is: \", sum_x)\n",
    "print(\"The value of the sum of x is: \", sum_x())"
   ]
  },
  {
   "cell_type": "markdown",
   "metadata": {},
   "source": [
    "### 2. Product of Variables\n",
    "\n",
    "We can use Pyomo's built-in `prod` function to create the product of the variables:\n",
    "\n",
    "```python\n",
    "prod_x = pyo.prod(m.x[i] for i in m.I)\n",
    "```"
   ]
  },
  {
   "cell_type": "code",
   "execution_count": 19,
   "metadata": {},
   "outputs": [
    {
     "name": "stdout",
     "output_type": "stream",
     "text": [
      "The product of x is:  x[P1]*x[P2]*x[P3]\n",
      "The value of the product of x is:  3000000\n"
     ]
    }
   ],
   "source": [
    "prod_x = pyo.prod(m.x[i] for i in m.I)\n",
    "\n",
    "print(\"The product of x is: \", prod_x)\n",
    "print(\"The value of the product of x is: \", prod_x())"
   ]
  },
  {
   "cell_type": "markdown",
   "metadata": {},
   "source": [
    "### 3. Sum of Products of Variables\n",
    "\n",
    "```python\n",
    "sum_prod_y_z = sum(m.y[i,j] * m.z[i,j] for i in m.I for j in m.J)\n",
    "```\n",
    "\n",
    "or, we can use Pyomo's built-in functions to create these expressions:\n",
    "\n",
    "```python\n",
    "sum_prod_y_z = pyo.sum_product(m.y, m.z)\n",
    "```\n"
   ]
  },
  {
   "cell_type": "code",
   "execution_count": 20,
   "metadata": {},
   "outputs": [
    {
     "name": "stdout",
     "output_type": "stream",
     "text": [
      "The sum of the product of y and z is:  y[P1,M1]*z[P1,M1] + y[P1,M2]*z[P1,M2] + y[P2,M1]*z[P2,M1] + y[P2,M2]*z[P2,M2] + y[P3,M1]*z[P3,M1] + y[P3,M2]*z[P3,M2]\n",
      "The value of the sum of the product of y and z is:  50\n"
     ]
    }
   ],
   "source": [
    "sum_prod_y_z = pyo.sum_product(m.y, m.z)\n",
    "\n",
    "print(\"The sum of the product of y and z is: \", sum_prod_y_z)\n",
    "print(\"The value of the sum of the product of y and z is: \", sum_prod_y_z())"
   ]
  },
  {
   "cell_type": "markdown",
   "metadata": {},
   "source": [
    "## Conclusion\n",
    "\n",
    "In this notebook, we have explored different types of decision variables and how to define them in Pyomo. We have also looked at some common expressions we can create using these variables.\n",
    "\n",
    "In the next notebook, we will look at how to define the parameters in our optimization model."
   ]
  },
  {
   "cell_type": "markdown",
   "metadata": {},
   "source": [
    "## Practice\n",
    "\n",
    "Now, it's your turn to practice:\n",
    "\n",
    "1. Create a concrete model $m$ with two sets, $I$ and $J$\n",
    "   $I = \\{1, 2, ..., 10\\}$ and $J = \\{1, 2, ..., 5\\}$.\n",
    "2. Create a continuous variable $x$ indexed by $I$ with initial values $init_x = \\{1, 2, ..., 10\\}$.\n",
    "3. Create a binary variable $y$ indexed by $I$ and $J$ with initial values 0 for all $i \\in I$ and $j \\in J$.\n",
    "4. Create a integer variable $z$ indexed by $I$ with initial values 10 with bounds (0, 20).\n",
    "5. Calculate the sum of $x$ for all $i \\in I$ and store the result in a new variable $sum_x$.\n",
    "6. Calculate the product of $y$ for all $i \\in I$ and $j \\in J$ and store the result in a new variable $prod_y$.\n",
    "7. Calculate the sum of the product of $x$ and $z$ for all $i \\in I$ and $j \\in J$ and store the result in a new variable $sumprodxz$.\n",
    "8. Calculate $ysum_i = \\sum_{j \\in J} y_{i,j}$ for all $i \\in I$ and store the result in a new variable $ysum_i$.\n",
    "9. Calculate the sum of the product of $x$ and $ysum_i$ for all $i \\in I$ and store the result in a new variable $sumprodxysum$.\n",
    "10. Calculate the sum of the product of $x, ysum_i, z$ for all $i \\in I$ and store the result in a new variable $sumprodxyz$."
   ]
  },
  {
   "cell_type": "code",
   "execution_count": 21,
   "metadata": {},
   "outputs": [],
   "source": [
    "# 1. Create a concrete model $m$ with two sets, $I$ and $J$\n",
    "# Your code should contain at least 3 lines of code.\n",
    "# 1 line for creating the model, m = ...\n",
    "# 1 line for creating the set I of m, m.I = ...\n",
    "# 1 line for creating the set J of m, m.J = ...\n",
    "### Write your code below ###\n"
   ]
  },
  {
   "cell_type": "code",
   "execution_count": 22,
   "metadata": {},
   "outputs": [],
   "source": [
    "# 2. Create a continuous variable $x$ indexed by $I$ with initial values $init_x = \\{1, 2, ..., 10\\}$.\n",
    "# Start with initiating init_x as a dictionary with keys as the indices of I and values as the initial values.\n",
    "# init_x = {1: 1, 2: 2, ...}\n",
    "# Then, create the variable x of m, m.x = ...\n",
    "### Write your code below ###\n"
   ]
  },
  {
   "cell_type": "code",
   "execution_count": 23,
   "metadata": {},
   "outputs": [],
   "source": [
    "# 3. Create a binary variable $y$ indexed by $I$ and $J$ with initial values 0 for all $i \\in I$ and $j \\in J$.\n",
    "### Write your code below ###\n"
   ]
  },
  {
   "cell_type": "code",
   "execution_count": 24,
   "metadata": {},
   "outputs": [],
   "source": [
    "# 4. Create a integer variable $z$ indexed by $I$ with initial values 10 with bounds (0, 20).\n",
    "### Write your code below ###\n"
   ]
  },
  {
   "cell_type": "code",
   "execution_count": 25,
   "metadata": {},
   "outputs": [],
   "source": [
    "# 5. Calculate the sum of $x$ for all $i \\in I$ and store the result in a new variable $sum_x$.\n",
    "### Write your code below ###\n"
   ]
  },
  {
   "cell_type": "code",
   "execution_count": 26,
   "metadata": {},
   "outputs": [],
   "source": [
    "# 6. Calculate the product of $y$ for all $i \\in I$ and $j \\in J$ and store the result in a new variable $prod_y$.\n",
    "### Write your code below ###\n"
   ]
  },
  {
   "cell_type": "code",
   "execution_count": 27,
   "metadata": {},
   "outputs": [],
   "source": [
    "# 7. Calculate the sum of the product of $x$ and $z$ for all $i \\in I$ and $j \\in J$ and store the result in a new variable $sumprodxz$.\n",
    "### Write your code below ###\n"
   ]
  },
  {
   "cell_type": "code",
   "execution_count": 28,
   "metadata": {},
   "outputs": [],
   "source": [
    "# 8. Calculate $ysum_i = \\sum_{j \\in J} y_{i,j}$ for all $i \\in I$ and store the result in a new variable $ysum_i$.\n",
    "# Use list comprehension, since you will have to iterate over the indices of J for each i in I.\n",
    "# The result should be a dictionary with keys as the indices of I and values as the sums.\n",
    "# ysum_i = {i: ... for i in m.I}\n",
    "### Write your code below ###\n"
   ]
  },
  {
   "cell_type": "code",
   "execution_count": 29,
   "metadata": {},
   "outputs": [],
   "source": [
    "# 9. Calculate the sum of the product of $x$ and $ysum_i$ for all $i \\in I$ and store the result in a new variable $sumprodxysum$.\n",
    "### Write your code below ###\n"
   ]
  },
  {
   "cell_type": "code",
   "execution_count": 30,
   "metadata": {},
   "outputs": [],
   "source": [
    "# 10. Calculate the sum of the product of $x, ysum_i, z$ for all $i \\in I$ and store the result in a new variable $sumprodxyz$.\n",
    "### Write your code below ###\n"
   ]
  }
 ],
 "metadata": {
  "kernelspec": {
   "display_name": ".venv",
   "language": "python",
   "name": "python3"
  },
  "language_info": {
   "codemirror_mode": {
    "name": "ipython",
    "version": 3
   },
   "file_extension": ".py",
   "mimetype": "text/x-python",
   "name": "python",
   "nbconvert_exporter": "python",
   "pygments_lexer": "ipython3",
   "version": "3.9.12"
  }
 },
 "nbformat": 4,
 "nbformat_minor": 2
}
