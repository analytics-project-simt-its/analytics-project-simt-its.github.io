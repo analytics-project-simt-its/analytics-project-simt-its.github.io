{
  "nbformat": 4,
  "nbformat_minor": 0,
  "metadata": {
    "colab": {
      "provenance": []
    },
    "kernelspec": {
      "name": "python3",
      "display_name": "Python 3"
    },
    "language_info": {
      "name": "python"
    }
  },
  "cells": [
    {
      "cell_type": "markdown",
      "source": [
        "# Verification and Validation (V&V)\n",
        "\n",
        "In this notebook, we will focus on the verification and validation of the model we developed. Let's revisit the production planning model from Chapter 2. Recall that the model is defined as follows:\n",
        "\n",
        "$$\n",
        "\\begin{equation}\n",
        "    \\begin{aligned}\n",
        "        & \\underset{x}{\\text{maximize}}\n",
        "        & & \\sum_{i \\in I} (r_i - c_i) \\cdot x_{i} \\\\\n",
        "        & \\text{subject to}\n",
        "        & & \\sum_{i \\in I} c_i \\cdot x_i \\leq b, \\\\\n",
        "        & & & \\sum_{i \\in I} x_i \\leq s, \\\\\n",
        "        & & & x_i \\leq p_i \\quad \\forall i \\in I, \\\\\n",
        "        & & & x_i \\geq 0 \\quad \\forall i \\in I.\n",
        "    \\end{aligned}\n",
        "\\end{equation}\n",
        "$$\n",
        "\n",
        "where $I$ is the set of products, $x_i$ is the production quantity of product $i$, $r_i$ is the revenue of product $i$, $c_i$ is the cost of product $i$, $b$ is the budget, $s$ is the storage capacity, and $p_i$ is the production capacity of product $i$.\n",
        "\n",
        "\n",
        "##  1. Verification\n",
        "\n",
        "Verification is the process of checking whether the model is implemented correctly. It is essentially deals with comparing what we expect the model to do with what the model actually does.\n",
        "\n",
        "\n",
        "Let's start by loading the data and the parameters from the Excel file.\n",
        "\n"
      ],
      "metadata": {
        "id": "m0uRPqmrsrt5"
      }
    },
    {
      "cell_type": "code",
      "execution_count": 5,
      "metadata": {
        "id": "4XVVi2czPgor"
      },
      "outputs": [],
      "source": [
        "EXCEL_URL = \"https://docs.google.com/spreadsheets/d/e/2PACX-1vQzIHhg3mZq4eGXraXQZl07kduWMhwrnUqqs_gPT6qH_V1SWI3crMZMllxG6MX1sz3QJCFBjMt9tftr/pub?output=xlsx\""
      ]
    },
    {
      "cell_type": "code",
      "source": [
        "%pip install pyomo --quiet\n",
        "%pip install openpyxl --quiet\n",
        "!apt-get install -y -qq glpk-utils"
      ],
      "metadata": {
        "colab": {
          "base_uri": "https://localhost:8080/"
        },
        "id": "agShbknlPnEe",
        "outputId": "dd784b3b-67ba-4045-e8a7-0076efd3b46d"
      },
      "execution_count": 2,
      "outputs": [
        {
          "output_type": "stream",
          "name": "stdout",
          "text": [
            "Selecting previously unselected package libsuitesparseconfig5:amd64.\n",
            "(Reading database ... 124565 files and directories currently installed.)\n",
            "Preparing to unpack .../libsuitesparseconfig5_1%3a5.10.1+dfsg-4build1_amd64.deb ...\n",
            "Unpacking libsuitesparseconfig5:amd64 (1:5.10.1+dfsg-4build1) ...\n",
            "Selecting previously unselected package libamd2:amd64.\n",
            "Preparing to unpack .../libamd2_1%3a5.10.1+dfsg-4build1_amd64.deb ...\n",
            "Unpacking libamd2:amd64 (1:5.10.1+dfsg-4build1) ...\n",
            "Selecting previously unselected package libcolamd2:amd64.\n",
            "Preparing to unpack .../libcolamd2_1%3a5.10.1+dfsg-4build1_amd64.deb ...\n",
            "Unpacking libcolamd2:amd64 (1:5.10.1+dfsg-4build1) ...\n",
            "Selecting previously unselected package libglpk40:amd64.\n",
            "Preparing to unpack .../libglpk40_5.0-1_amd64.deb ...\n",
            "Unpacking libglpk40:amd64 (5.0-1) ...\n",
            "Selecting previously unselected package glpk-utils.\n",
            "Preparing to unpack .../glpk-utils_5.0-1_amd64.deb ...\n",
            "Unpacking glpk-utils (5.0-1) ...\n",
            "Setting up libsuitesparseconfig5:amd64 (1:5.10.1+dfsg-4build1) ...\n",
            "Setting up libamd2:amd64 (1:5.10.1+dfsg-4build1) ...\n",
            "Setting up libcolamd2:amd64 (1:5.10.1+dfsg-4build1) ...\n",
            "Setting up libglpk40:amd64 (5.0-1) ...\n",
            "Setting up glpk-utils (5.0-1) ...\n",
            "Processing triggers for man-db (2.10.2-1) ...\n",
            "Processing triggers for libc-bin (2.35-0ubuntu3.4) ...\n",
            "/sbin/ldconfig.real: /usr/local/lib/libur_adapter_opencl.so.0 is not a symbolic link\n",
            "\n",
            "/sbin/ldconfig.real: /usr/local/lib/libtcm.so.1 is not a symbolic link\n",
            "\n",
            "/sbin/ldconfig.real: /usr/local/lib/libtbb.so.12 is not a symbolic link\n",
            "\n",
            "/sbin/ldconfig.real: /usr/local/lib/libtbbbind_2_5.so.3 is not a symbolic link\n",
            "\n",
            "/sbin/ldconfig.real: /usr/local/lib/libumf.so.0 is not a symbolic link\n",
            "\n",
            "/sbin/ldconfig.real: /usr/local/lib/libur_adapter_level_zero.so.0 is not a symbolic link\n",
            "\n",
            "/sbin/ldconfig.real: /usr/local/lib/libur_loader.so.0 is not a symbolic link\n",
            "\n",
            "/sbin/ldconfig.real: /usr/local/lib/libtbbmalloc.so.2 is not a symbolic link\n",
            "\n",
            "/sbin/ldconfig.real: /usr/local/lib/libtbbmalloc_proxy.so.2 is not a symbolic link\n",
            "\n",
            "/sbin/ldconfig.real: /usr/local/lib/libtcm_debug.so.1 is not a symbolic link\n",
            "\n",
            "/sbin/ldconfig.real: /usr/local/lib/libtbbbind_2_0.so.3 is not a symbolic link\n",
            "\n",
            "/sbin/ldconfig.real: /usr/local/lib/libhwloc.so.15 is not a symbolic link\n",
            "\n",
            "/sbin/ldconfig.real: /usr/local/lib/libtbbbind.so.3 is not a symbolic link\n",
            "\n"
          ]
        }
      ]
    },
    {
      "cell_type": "code",
      "source": [
        "import numpy as np\n",
        "import pandas as pd\n",
        "import pyomo.environ as pyo\n",
        "import matplotlib.pyplot as plt"
      ],
      "metadata": {
        "id": "kgqDdaoSPqnO"
      },
      "execution_count": 3,
      "outputs": []
    },
    {
      "cell_type": "code",
      "source": [
        "df = pd.read_excel(EXCEL_URL, sheet_name='data', index_col=0).to_dict()\n",
        "params = pd.read_excel(EXCEL_URL, sheet_name='params').to_dict(orient='list')\n",
        "params = {name_: value_ for name_, value_ in zip(params[\"name\"], params[\"val\"])}"
      ],
      "metadata": {
        "id": "37EqUACoP0p1"
      },
      "execution_count": 6,
      "outputs": []
    },
    {
      "cell_type": "code",
      "source": [
        "df"
      ],
      "metadata": {
        "colab": {
          "base_uri": "https://localhost:8080/"
        },
        "id": "72rlCR54T4h3",
        "outputId": "203445d1-5e60-4b20-cb0b-94c44dd37a10"
      },
      "execution_count": 7,
      "outputs": [
        {
          "output_type": "execute_result",
          "data": {
            "text/plain": [
              "{'revenue': {1: 50, 2: 70, 3: 90},\n",
              " 'cost': {1: 30, 2: 40, 3: 50},\n",
              " 'production_capacity': {1: 200, 2: 150, 3: 100}}"
            ]
          },
          "metadata": {},
          "execution_count": 7
        }
      ]
    },
    {
      "cell_type": "markdown",
      "source": [
        "Recall that the model is defined as follows in Pyomo:"
      ],
      "metadata": {
        "id": "sgMk5Ks7sx3Z"
      }
    },
    {
      "cell_type": "code",
      "source": [
        "#initiate the model\n",
        "model = pyo.ConcreteModel()\n",
        "\n",
        "\n",
        "#define the set of products\n",
        "model.I = pyo.Set(initialize=[1, 2, 3])\n",
        "\n",
        "\n",
        "#define the decision variables\n",
        "model.x = pyo.Var(model.I, domain=pyo.Reals, initialize=0)\n",
        "\n",
        "\n",
        "#define the parameters\n",
        "model.r = pyo.Param(model.I, initialize=df['revenue'])\n",
        "model.c = pyo.Param(model.I, initialize=df['cost'])\n",
        "model.p = pyo.Param(model.I, initialize=df['production_capacity'])\n",
        "model.b = pyo.Param(initialize=params['budget'])\n",
        "model.s = pyo.Param(initialize=params['capacity'])\n",
        "\n",
        "#define useful expressions\n",
        "model.total_revenue = pyo.Expression(rule=lambda model: sum(model.r[i] * model.x[i] for i in model.I))\n",
        "model.total_cost = pyo.Expression(rule=lambda model: sum(model.c[i] * model.x[i] for i in model.I))\n",
        "\n",
        "\n",
        "#define the objective function\n",
        "def f(model):\n",
        "    return model.total_revenue - model.total_cost\n",
        "    #return sum((model.r[i] - model.c[i]) * model.x[i] for i in model.I)\n",
        "model.obj = pyo.Objective(rule=f, sense=pyo.maximize)\n",
        "\n",
        "\n",
        "#define the constraints\n",
        "def budget_constraint(model):\n",
        "    return sum(model.c[i] * model.x[i] for i in model.I) <= model.b\n",
        "model.budget_constraint = pyo.Constraint(rule=budget_constraint)\n",
        "\n",
        "def storage_capacity(model):\n",
        "    return sum(model.x[i] for i in model.I) <= model.s\n",
        "model.storage_capacity = pyo.Constraint(rule=storage_capacity)\n",
        "\n",
        "def production_capacity(model, i):\n",
        "    return model.x[i] <= model.p[i]\n",
        "model.production_capacity = pyo.Constraint(model.I, rule=production_capacity)\n",
        "\n",
        "def nonnegative_domain(model, i):\n",
        "    return model.x[i] >= 0\n",
        "model.nonnegative_domain = pyo.Constraint(model.I, rule=nonnegative_domain)"
      ],
      "metadata": {
        "id": "jAtXO3cFP4A9"
      },
      "execution_count": 9,
      "outputs": []
    },
    {
      "cell_type": "markdown",
      "source": [
        "Let's wrap the model in a function that outputs the model object with initial values using parameters passed into the function."
      ],
      "metadata": {
        "id": "lHPLaY4ss2bE"
      }
    },
    {
      "cell_type": "code",
      "source": [
        "def build_production_planning_model(params, df, initial_values=0.0):\n",
        "    #initiate the model\n",
        "    model = pyo.ConcreteModel()\n",
        "\n",
        "\n",
        "    #define the set of products\n",
        "    model.I = pyo.Set(initialize=[1, 2, 3])\n",
        "\n",
        "\n",
        "    #define the decision variables\n",
        "    model.x = pyo.Var(model.I, domain=pyo.Reals, initialize=initial_values)\n",
        "\n",
        "\n",
        "    #define the parameters\n",
        "    model.r = pyo.Param(model.I, initialize=df['revenue'])\n",
        "    model.c = pyo.Param(model.I, initialize=df['cost'])\n",
        "    model.p = pyo.Param(model.I, initialize=df['production_capacity'])\n",
        "    model.b = pyo.Param(initialize=params['budget'])\n",
        "    model.s = pyo.Param(initialize=params['capacity'])\n",
        "\n",
        "    #define useful expressions\n",
        "    model.total_revenue = pyo.Expression(rule=lambda model: sum(model.r[i] * model.x[i] for i in model.I))\n",
        "    model.total_cost = pyo.Expression(rule=lambda model: sum(model.c[i] * model.x[i] for i in model.I))\n",
        "\n",
        "\n",
        "    #define the objective function\n",
        "    def f(model):\n",
        "        return model.total_revenue - model.total_cost\n",
        "    model.obj = pyo.Objective(rule=f, sense=pyo.maximize)\n",
        "\n",
        "\n",
        "    #define the constraints\n",
        "    def budget_constraint(model):\n",
        "        return sum(model.c[i] * model.x[i] for i in model.I) <= model.b\n",
        "    model.budget_constraint = pyo.Constraint(rule=budget_constraint)\n",
        "\n",
        "    def storage_capacity(model):\n",
        "        return sum(model.x[i] for i in model.I) <= model.s\n",
        "    model.storage_capacity = pyo.Constraint(rule=storage_capacity)\n",
        "\n",
        "    def production_capacity(model, i):\n",
        "        return model.x[i] <= model.p[i]\n",
        "    model.production_capacity = pyo.Constraint(model.I, rule=production_capacity)\n",
        "\n",
        "    def nonnegative_domain(model, i):\n",
        "        return model.x[i] >= 0\n",
        "    model.nonnegative_domain = pyo.Constraint(model.I, rule=nonnegative_domain)\n",
        "\n",
        "    return model"
      ],
      "metadata": {
        "id": "gIehHsYunu74"
      },
      "execution_count": 18,
      "outputs": []
    },
    {
      "cell_type": "markdown",
      "source": [
        "What we did above is just writing a function that builds the model object with initial values using parameters passed into the function. With this function, we can now build the model object as follows:"
      ],
      "metadata": {
        "id": "ErsXzNTts7UG"
      }
    },
    {
      "cell_type": "code",
      "source": [
        "model = build_production_planning_model(params, df, initial_values=0.0)"
      ],
      "metadata": {
        "id": "VNCSPyZNs9ys"
      },
      "execution_count": 19,
      "outputs": []
    },
    {
      "cell_type": "markdown",
      "source": [
        "The objective value of the model evaluated at the initial values can be obtained as follows:"
      ],
      "metadata": {
        "id": "_b3yu0sPtC26"
      }
    },
    {
      "cell_type": "code",
      "source": [
        "model.obj()"
      ],
      "metadata": {
        "colab": {
          "base_uri": "https://localhost:8080/"
        },
        "id": "XajA0KdutD9w",
        "outputId": "28a01af1-e154-4c00-8e3e-9c64facc31fe"
      },
      "execution_count": 20,
      "outputs": [
        {
          "output_type": "execute_result",
          "data": {
            "text/plain": [
              "0.0"
            ]
          },
          "metadata": {},
          "execution_count": 20
        }
      ]
    },
    {
      "cell_type": "markdown",
      "source": [
        "We did expect the objective value to be 0 if the initial values are 0, which is indeed the case. We can create an assert statement to check whether the objective value is 0."
      ],
      "metadata": {
        "id": "y7p8UMwFtOBy"
      }
    },
    {
      "cell_type": "code",
      "source": [
        "model = build_production_planning_model(params, df, initial_values=0.0)\n",
        "assert model.obj() == 0, \"The objective value must be zero under the initial values of 0\""
      ],
      "metadata": {
        "id": "6QhMU0IYtTvb"
      },
      "execution_count": 23,
      "outputs": []
    },
    {
      "cell_type": "markdown",
      "source": [
        "We can create another test cases by changing the initial values. For example, let's set the initial values to be 100 for all products. If we calculate manually, the objective value should be:\n",
        "\n",
        "$$\n",
        "\\begin{align}\n",
        "\\sum_{i \\in I} (r_i - c_i) \\cdot x_i & = (50 - 30) \\cdot 100 + (70 - 40) \\cdot 100 + (90 - 50) \\cdot 100 \\\\\n",
        "& = 20 \\cdot 100 + 30 \\cdot 100 + 40 \\cdot 100 \\\\\n",
        "& = 2000 + 3000 + 4000 \\\\\n",
        "& = 9000\n",
        "\\end{align}\n",
        "$$\n",
        "\n",
        "We can now run the model and check whether the objective value is 9000."
      ],
      "metadata": {
        "id": "n7R5zQaKtWp3"
      }
    },
    {
      "cell_type": "code",
      "source": [
        "model = build_production_planning_model(params, df, initial_values=100.0)\n",
        "assert model.obj() == 9000, \"The objective value must be 9000 under the initial values of 100\""
      ],
      "metadata": {
        "id": "wN70K4oWthrn"
      },
      "execution_count": 24,
      "outputs": []
    },
    {
      "cell_type": "markdown",
      "source": [
        "At this point, we have verified that the objective function appears to be correct. We can now proceed to verifying the other calculations. We have created a few expressions that we can use to verify the other calculations. For example, we can verify the total revenue and total cost.\n"
      ],
      "metadata": {
        "id": "_3yv2OzZtka3"
      }
    },
    {
      "cell_type": "code",
      "source": [
        "model = build_production_planning_model(params, df, initial_values=0.0)\n",
        "assert model.total_revenue() == 0, \"The total revenue must be 0 under the initial values of 0\"\n",
        "assert model.total_cost() == 0, \"The total cost must be 0 under the initial values of 0\"\n",
        "\n",
        "model = build_production_planning_model(params, df, initial_values=100.0)\n",
        "assert model.total_revenue() == 21000, \"The total revenue must be 9000 under the initial values of 100\"\n",
        "assert model.total_cost() == 12000, \"The total cost must be 9000 under the initial values of 100\"\n",
        "\n"
      ],
      "metadata": {
        "id": "6pZ8BKDMuWqz"
      },
      "execution_count": 25,
      "outputs": []
    },
    {
      "cell_type": "markdown",
      "source": [
        "It shall be clear at this point that using Pyomo expressions is a good practice as it helps in verifying the calculations.\n",
        "\n",
        "It is a good practice to create a function to run verification for us. To do that, we will need both input and the expected output."
      ],
      "metadata": {
        "id": "zCA1TGituYQ6"
      }
    },
    {
      "cell_type": "code",
      "source": [
        "test_cases = [\n",
        "    {\n",
        "        \"initial_values\": 0.0,\n",
        "        \"expected_objective\": 0.0,\n",
        "        \"expected_total_revenue\": 0.0,\n",
        "        \"expected_total_cost\": 0.0,\n",
        "    },\n",
        "    {\n",
        "        \"initial_values\": 100.0,\n",
        "        \"expected_objective\": 9000.0,\n",
        "        \"expected_total_revenue\": 21000.0,\n",
        "        \"expected_total_cost\": 12000.0,\n",
        "    }\n",
        "]\n",
        "\n",
        "def verify_production_planning_model(params, df, test_cases):\n",
        "    for test_case in test_cases:\n",
        "        model = build_production_planning_model(params, df, initial_values=test_case[\"initial_values\"])\n",
        "        assert model.obj() == test_case[\"expected_objective\"], \"The objective value must be {} under the initial values of {}\".format(test_case[\"expected_objective\"], test_case[\"initial_values\"])\n",
        "        assert model.total_revenue() == test_case[\"expected_total_revenue\"], \"The total revenue must be {} under the initial values of {}\".format(test_case[\"expected_total_revenue\"], test_case[\"initial_values\"])\n",
        "        assert model.total_cost() == test_case[\"expected_total_cost\"], \"The total cost must be {} under the initial values of {}\".format(test_case[\"expected_total_cost\"], test_case[\"initial_values\"])\n",
        "        print(f\"Test case {test_case['initial_values']} passed\")"
      ],
      "metadata": {
        "id": "PUOr3nlCva_D"
      },
      "execution_count": 27,
      "outputs": []
    },
    {
      "cell_type": "markdown",
      "source": [
        "We can run the verification using these test cases:"
      ],
      "metadata": {
        "id": "lJujkoHdvhrf"
      }
    },
    {
      "cell_type": "code",
      "source": [
        "verify_production_planning_model(params, df, test_cases)"
      ],
      "metadata": {
        "colab": {
          "base_uri": "https://localhost:8080/"
        },
        "id": "T8rIVqMevhNO",
        "outputId": "e656e68b-d7e9-4dc2-94ae-48809c281ad0"
      },
      "execution_count": 28,
      "outputs": [
        {
          "output_type": "stream",
          "name": "stdout",
          "text": [
            "Test case 0.0 passed\n",
            "Test case 100.0 passed\n"
          ]
        }
      ]
    },
    {
      "cell_type": "markdown",
      "source": [
        "If the model fails the assertion, we will see AssertionError raised by the system.\n",
        "\n",
        "\n",
        "We can also verify whether the solution satisfies the constraints. Let's first solve the model using the solver."
      ],
      "metadata": {
        "id": "jNi44g0cvoZX"
      }
    },
    {
      "cell_type": "code",
      "source": [
        "model = build_production_planning_model(params, df, initial_values=0.0)\n",
        "solver = pyo.SolverFactory('glpk', executable='/usr/bin/glpsol')\n",
        "result = solver.solve(model, tee=True)"
      ],
      "metadata": {
        "colab": {
          "base_uri": "https://localhost:8080/"
        },
        "id": "pqDD270rZGex",
        "outputId": "d1a15685-7dee-404c-b742-cc70149884ee"
      },
      "execution_count": 29,
      "outputs": [
        {
          "output_type": "stream",
          "name": "stdout",
          "text": [
            "GLPSOL--GLPK LP/MIP Solver 5.0\n",
            "Parameter(s) specified in the command line:\n",
            " --write /tmp/tmphg65xpkz.glpk.raw --wglp /tmp/tmplxbu0i5i.glpk.glp --cpxlp\n",
            " /tmp/tmpu3npsz9n.pyomo.lp\n",
            "Reading problem data from '/tmp/tmpu3npsz9n.pyomo.lp'...\n",
            "8 rows, 3 columns, 12 non-zeros\n",
            "51 lines were read\n",
            "Writing problem data to '/tmp/tmplxbu0i5i.glpk.glp'...\n",
            "40 lines were written\n",
            "GLPK Simplex Optimizer 5.0\n",
            "8 rows, 3 columns, 12 non-zeros\n",
            "Preprocessing...\n",
            "2 rows, 3 columns, 6 non-zeros\n",
            "Scaling...\n",
            " A: min|aij| =  1.000e+00  max|aij| =  5.000e+01  ratio =  5.000e+01\n",
            "GM: min|aij| =  8.801e-01  max|aij| =  1.136e+00  ratio =  1.291e+00\n",
            "EQ: min|aij| =  7.746e-01  max|aij| =  1.000e+00  ratio =  1.291e+00\n",
            "Constructing initial basis...\n",
            "Size of triangular part is 2\n",
            "*     0: obj =  -0.000000000e+00 inf =   0.000e+00 (3)\n",
            "*     2: obj =   7.750000000e+03 inf =   0.000e+00 (0)\n",
            "OPTIMAL LP SOLUTION FOUND\n",
            "Time used:   0.0 secs\n",
            "Memory used: 0.0 Mb (40412 bytes)\n",
            "Writing basic solution to '/tmp/tmphg65xpkz.glpk.raw'...\n",
            "20 lines were written\n"
          ]
        }
      ]
    },
    {
      "cell_type": "markdown",
      "source": [
        "Let's check the status of the solution."
      ],
      "metadata": {
        "id": "Iwd3eS-xwfBR"
      }
    },
    {
      "cell_type": "code",
      "execution_count": 30,
      "metadata": {
        "id": "FDU8VdM3PbO2",
        "colab": {
          "base_uri": "https://localhost:8080/"
        },
        "outputId": "f9c8a2ac-0142-43c8-dc71-be7bc8abad87"
      },
      "outputs": [
        {
          "output_type": "stream",
          "name": "stdout",
          "text": [
            "Status: ok\n",
            "Termination condition: optimal\n",
            "Optimal value: 7750.0\n",
            "Optimal production quantity:\n"
          ]
        }
      ],
      "source": [
        "#display the results\n",
        "print(\"Status:\", result.solver.status)\n",
        "print(\"Termination condition:\", result.solver.termination_condition)\n",
        "print(\"Optimal value:\", pyo.value(model.obj))\n",
        "print(\"Optimal production quantity:\")\n"
      ]
    },
    {
      "cell_type": "markdown",
      "source": [
        "Since the solver claims an optimal result, we can check if the constraints are satisfied."
      ],
      "metadata": {
        "id": "9B-W57UDwiiA"
      }
    },
    {
      "cell_type": "code",
      "source": [
        "assert pyo.value(model.budget_constraint) <= model.b, \"budget used must not exceed the available budget\"\n",
        "assert pyo.value(model.storage_capacity) <= model.s, \"the storage capacity used must not exceed the available storage capacity\"\n",
        "for i in model.I:\n",
        "    assert pyo.value(model.production_capacity[i]) <= model.p[i], \"the production capacity used must not exceed the available production capacity\"\n",
        "    assert pyo.value(model.nonnegative_domain[i]) >= 0, \"the production quantity must be non-negative\"\n",
        "\n",
        "print(\"All constraints are satisfied by the solution: \", [model.x[i]() for i in model.I])"
      ],
      "metadata": {
        "colab": {
          "base_uri": "https://localhost:8080/"
        },
        "id": "XxdlPaRQcvBj",
        "outputId": "ccd19b58-1c32-471d-8606-78ce1e2269b4"
      },
      "execution_count": 41,
      "outputs": [
        {
          "output_type": "stream",
          "name": "stdout",
          "text": [
            "All constraints are satisfied by the solution:  [0.0, 125.0, 100.0]\n"
          ]
        }
      ]
    },
    {
      "cell_type": "markdown",
      "source": [
        "## Validation\n",
        "\n",
        "Validation is the process of checking whether the model is implemented according to user requirements and reflects the real-world problem we are trying to solve.\n",
        "\n",
        "We can first check whether the order of magnitude of the profit, cost, and revenue looks correct by the user. Let's say, the user says it should be in the order of tens of thousands."
      ],
      "metadata": {
        "id": "SyEtYqdYx_vl"
      }
    },
    {
      "cell_type": "code",
      "source": [
        "assert model.total_revenue() < 100000, \"The total revenue must be less than 100000\"\n",
        "assert model.total_cost() < 100000, \"The total cost must be less than 100000\"\n",
        "assert model.obj() < 100000, \"The total profit must be less than 100000\""
      ],
      "metadata": {
        "id": "XvvHb2ls0uPz"
      },
      "execution_count": 46,
      "outputs": []
    },
    {
      "cell_type": "markdown",
      "source": [
        "It can also be used to check whether the solution is accurate and is a realistic solution to the real-world problem we are trying to solve.\n",
        "\n",
        "For example, let's say the user knows the current profit is only 4500, with the production quantity of 50 for all products. We can now compare if the optimal solution is close or even better than that baseline.\n",
        "\n",
        "For example, let's say the user knows the current profit is only 4500, with the production quantity of 50 for all products. We can now compare if the optimal solution is close or even better than that baseline."
      ],
      "metadata": {
        "id": "dlu5oNh50Ygn"
      }
    },
    {
      "cell_type": "code",
      "source": [
        "model.obj()"
      ],
      "metadata": {
        "colab": {
          "base_uri": "https://localhost:8080/"
        },
        "id": "HpXYnQU7dH76",
        "outputId": "1e557e7b-3030-4c85-b138-04cf6a4bee9f"
      },
      "execution_count": 44,
      "outputs": [
        {
          "output_type": "execute_result",
          "data": {
            "text/plain": [
              "7750.0"
            ]
          },
          "metadata": {},
          "execution_count": 44
        }
      ]
    },
    {
      "cell_type": "markdown",
      "source": [
        "We can write an assertion"
      ],
      "metadata": {
        "id": "vuZRFofa09RN"
      }
    },
    {
      "cell_type": "code",
      "source": [
        "assert model.obj() >= 4500, \"The optimal solution must not be worse than the current solution\""
      ],
      "metadata": {
        "id": "3coDdpUW1APh"
      },
      "execution_count": 47,
      "outputs": []
    },
    {
      "cell_type": "markdown",
      "source": [
        "Given that the obtained profit is higher, we have higher confidence now that the optimal solution indeed improves the current solution.\n",
        "\n",
        "We could also check whether the solution is realistic and practical to use by the user. The optimal solution is:"
      ],
      "metadata": {
        "id": "KF1G8cXnzIOZ"
      }
    },
    {
      "cell_type": "code",
      "source": [
        "for i in model.I:\n",
        "    print(f\"Product {i}: {pyo.value(model.x[i])}\")"
      ],
      "metadata": {
        "colab": {
          "base_uri": "https://localhost:8080/"
        },
        "id": "fyk7X6LSzkO7",
        "outputId": "ead71ea1-cf11-4ff1-ab0e-2c27aac0bbd2"
      },
      "execution_count": 45,
      "outputs": [
        {
          "output_type": "stream",
          "name": "stdout",
          "text": [
            "Product 1: 0.0\n",
            "Product 2: 125.0\n",
            "Product 3: 100.0\n"
          ]
        }
      ]
    },
    {
      "cell_type": "markdown",
      "source": [
        "If the user agrees that these production portfolio can indeed be carried out to the production team, then we have a valid solution.\n",
        "\n",
        "\n",
        "If on the other hand the user is not satisfied, perhaps due to the solution being unrealistic, then we will need to revisit the constraint and figure out what else needs to be included in the model (more constraints, updated parameters, etc)."
      ],
      "metadata": {
        "id": "sGHR4f-xznUG"
      }
    },
    {
      "cell_type": "markdown",
      "source": [
        "## Conclusion\n",
        "\n",
        "Verification & validation are essential processes in model development. They help us ensure that the model is implemented correctly and that the solution is accurate and reflects the real-world problem we are trying to solve.\n",
        "\n",
        "In this notebook, we have demonstrated an example of how to verify and validate the production planning model. We have used Pyomo to build the model and verified the calculations using expressions. We have also created a function to run verification for us. Finally, we have validated the solution by comparing it to the user's knowledge.\n",
        "\n",
        "There are other ways to carry out these functions. A more systematic and integrated approach is to use unit tests for verification and demo/interviews with the users for validation. This is all done to ensure the model and the resulting solution meet expectation and the objective of the project.\n",
        "\n"
      ],
      "metadata": {
        "id": "Uyi3xhNk1SnV"
      }
    },
    {
      "cell_type": "code",
      "source": [],
      "metadata": {
        "id": "eFcZxlyj1cpq"
      },
      "execution_count": null,
      "outputs": []
    }
  ]
}