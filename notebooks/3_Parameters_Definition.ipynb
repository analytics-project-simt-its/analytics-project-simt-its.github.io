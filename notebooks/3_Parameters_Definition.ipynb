{
 "cells": [
  {
   "cell_type": "markdown",
   "metadata": {},
   "source": [
    "# 3. Parameter Definition for Optimization Models\n",
    "\n",
    "This notebook is part of a step-by-step guide to creating an optimization model. We continue our 7-step procedure:\n",
    "\n",
    "1. ✓ Import Pyomo and Define the Sets\n",
    "2. ✓ Define the Decision Variables\n",
    "3. ➡️ Define the Parameters\n",
    "4. Define the Expressions\n",
    "5. Define the Objective Function\n",
    "6. Define the Constraints\n",
    "\n",
    "In this notebook, we will explore how to define and use parameters in Pyomo. Parameters are the input data or coefficients in our optimization model. Unlike decision variables, parameters are known values that don't change during optimization.\n",
    "\n",
    "We will cover:\n",
    "- What are parameters and why are they important\n",
    "- How to define scalar parameters\n",
    "- How to define indexed parameters\n",
    "- How to use parameters in expressions\n",
    "- How to update parameter values\n",
    "- Common patterns and best practices"
   ]
  },
  {
   "cell_type": "markdown",
   "metadata": {},
   "source": [
    "## Setup: Importing Pyomo and Creating a Model\n",
    "\n",
    "As in the previous notebooks, we start by importing Pyomo and creating a concrete model:"
   ]
  },
  {
   "cell_type": "code",
   "execution_count": 1,
   "metadata": {},
   "outputs": [],
   "source": [
    "import pyomo.environ as pyo\n",
    "\n",
    "# Create a concrete model\n",
    "m = pyo.ConcreteModel()"
   ]
  },
  {
   "cell_type": "markdown",
   "metadata": {},
   "source": [
    "Here, we initiate an empty concrete model `m`. We will add sets, variables, parameters into this model."
   ]
  },
  {
   "cell_type": "markdown",
   "metadata": {},
   "source": [
    "## What are Parameters?\n",
    "\n",
    "Parameters are the constant coefficients in our optimization model. They represent known values that are used in:\n",
    "- Objective function coefficients\n",
    "- Constraint coefficients\n",
    "- Bounds on variables\n",
    "- Right-hand side values of constraints\n",
    "\n",
    "For example, in a production planning problem:\n",
    "- Unit prices\n",
    "- Production costs\n",
    "- Machine capacities\n",
    "- Resource requirements\n",
    "- Demand forecasts\n",
    "\n",
    "are all parameters.\n",
    "\n",
    "Let's use our previous example where we had:\n",
    "- Products set $I$ and Machines set $J$\n",
    "- Production quantities $x_i$ for each product $i \\in I$\n",
    "- Production time $y_{i,j}$ for product $i$ on machine $j$\n",
    "\n",
    "We'll add parameters for:\n",
    "- Unit profit for each product ($p_i$)\n",
    "- Production cost per hour on each machine ($c_j$)\n",
    "- Machine capacities in hours ($cap_j$)\n",
    "- Processing time requirements for each product on each machine ($t_{i,j}$)"
   ]
  },
  {
   "cell_type": "markdown",
   "metadata": {},
   "source": [
    "## Creating Sets and Variables\n",
    "\n",
    "First, let's recreate our sets and variables from the previous notebooks:"
   ]
  },
  {
   "cell_type": "code",
   "execution_count": 2,
   "metadata": {},
   "outputs": [],
   "source": [
    "# Create sets\n",
    "m.I = pyo.Set(initialize=['P1', 'P2', 'P3'])  # Products\n",
    "m.J = pyo.Set(initialize=['M1', 'M2'])       # Machines\n",
    "\n",
    "# Production amount for each product\n",
    "x_init = {'P1': 100, 'P2': 150, 'P3': 200}\n",
    "m.x = pyo.Var(m.I, domain=pyo.NonNegativeReals, initialize=x_init)\n",
    "\n",
    "# Production time allocated to each product on each machine\n",
    "y_init = {('P1', 'M1'): 2, ('P1', 'M2'): 3, ('P2', 'M1'): 3, ('P2', 'M2'): 2, ('P3', 'M1'): 4, ('P3', 'M2'): 3}\n",
    "m.y = pyo.Var(m.I, m.J, domain=pyo.NonNegativeReals, initialize=y_init)"
   ]
  },
  {
   "cell_type": "markdown",
   "metadata": {},
   "source": [
    "What we did here is to add set `I` and `J` to the model `m` and initialize the variables `x` and `y` with some values.  If these steps are not familiar to you, please refer to the previous notebooks in this series."
   ]
  },
  {
   "cell_type": "markdown",
   "metadata": {},
   "source": [
    "## Defining Parameters in Pyomo\n",
    "\n",
    "### 1. Scalar Parameters\n",
    "\n",
    "Scalar parameters are single values that don't need indexing. For example, let's define a minimum profit target:"
   ]
  },
  {
   "cell_type": "code",
   "execution_count": 3,
   "metadata": {},
   "outputs": [
    {
     "name": "stdout",
     "output_type": "stream",
     "text": [
      "min_profit : Size=1, Index=None, Domain=Any, Default=None, Mutable=False\n",
      "    Key  : Value\n",
      "    None :  1000\n"
     ]
    }
   ],
   "source": [
    "# Define a scalar parameter\n",
    "m.min_profit = pyo.Param(initialize=1000)\n",
    "\n",
    "# Access the parameter value\n",
    "m.min_profit.display()"
   ]
  },
  {
   "cell_type": "markdown",
   "metadata": {},
   "source": [
    "### 2. Indexed Parameters\n",
    "\n",
    "Indexed parameters are defined over sets. Let's define our production parameters:"
   ]
  },
  {
   "cell_type": "code",
   "execution_count": 4,
   "metadata": {},
   "outputs": [
    {
     "name": "stdout",
     "output_type": "stream",
     "text": [
      "p : Size=3, Index=I, Domain=Any, Default=None, Mutable=False\n",
      "    Key : Value\n",
      "     P1 :   100\n",
      "     P2 :   150\n",
      "     P3 :   200\n"
     ]
    }
   ],
   "source": [
    "# Unit profit for each product\n",
    "profit_data = {'P1': 100, 'P2': 150, 'P3': 200}\n",
    "m.p = pyo.Param(m.I, initialize=profit_data)\n",
    "\n",
    "# Print parameters\n",
    "m.p.display()"
   ]
  },
  {
   "cell_type": "markdown",
   "metadata": {},
   "source": [
    "We can also access the parameter value using the set index:"
   ]
  },
  {
   "cell_type": "code",
   "execution_count": 5,
   "metadata": {},
   "outputs": [
    {
     "name": "stdout",
     "output_type": "stream",
     "text": [
      "100\n"
     ]
    }
   ],
   "source": [
    "print(m.p['P1'])\n"
   ]
  },
  {
   "cell_type": "markdown",
   "metadata": {},
   "source": [
    "Similar as variables, we can iterate over the parameter values:"
   ]
  },
  {
   "cell_type": "code",
   "execution_count": 6,
   "metadata": {},
   "outputs": [
    {
     "name": "stdout",
     "output_type": "stream",
     "text": [
      "P1 100\n",
      "P2 150\n",
      "P3 200\n"
     ]
    }
   ],
   "source": [
    "for i in m.I:\n",
    "    print(i, m.p[i])"
   ]
  },
  {
   "cell_type": "markdown",
   "metadata": {},
   "source": [
    "Or, more compactly:"
   ]
  },
  {
   "cell_type": "code",
   "execution_count": 7,
   "metadata": {},
   "outputs": [
    {
     "name": "stdout",
     "output_type": "stream",
     "text": [
      "[100, 150, 200]\n"
     ]
    }
   ],
   "source": [
    "print([m.p[i] for i in m.I])"
   ]
  },
  {
   "cell_type": "markdown",
   "metadata": {},
   "source": [
    "We can also use the summation operator:"
   ]
  },
  {
   "cell_type": "code",
   "execution_count": 8,
   "metadata": {},
   "outputs": [
    {
     "name": "stdout",
     "output_type": "stream",
     "text": [
      "sum_p =  450\n",
      "total_profit =  100*x[P1] + 150*x[P2] + 200*x[P3]\n",
      "total_profit value  =  72500\n"
     ]
    }
   ],
   "source": [
    "#calculate the sum of the unit profits\n",
    "sum_p = sum(m.p[i] for i in m.I)\n",
    "print(\"sum_p = \", sum_p)\n",
    "\n",
    "#calculate the total profit\n",
    "total_profit = sum(m.p[i] * m.x[i] for i in m.I)\n",
    "print(\"total_profit = \", total_profit)\n",
    "print(\"total_profit value  = \", total_profit())"
   ]
  },
  {
   "cell_type": "markdown",
   "metadata": {},
   "source": [
    "Note here that we do not need to use `()` to access the value of Pyomo parameters. This is because Pyomo parameters are not functions, they are just values.\n",
    "\n",
    "Meanwhile, we need to use `()` to access the value of Pyomo variables or expressions. "
   ]
  },
  {
   "cell_type": "markdown",
   "metadata": {},
   "source": [
    "Let's introduce a few more parameters:"
   ]
  },
  {
   "cell_type": "code",
   "execution_count": 9,
   "metadata": {},
   "outputs": [],
   "source": [
    "# Production cost per hour on each machine\n",
    "cost_data = {'M1': 50, 'M2': 40}\n",
    "m.c = pyo.Param(m.J, initialize=cost_data)\n",
    "\n",
    "# Machine capacities (hours available)\n",
    "capacity_data = {'M1': 160, 'M2': 200}\n",
    "m.cap = pyo.Param(m.J, initialize=capacity_data)\n",
    "\n",
    "# Processing time requirements (hours per unit)\n",
    "time_data = {\n",
    "    ('P1','M1'): 2, ('P1','M2'): 3,\n",
    "    ('P2','M1'): 3, ('P2','M2'): 2,\n",
    "    ('P3','M1'): 4, ('P3','M2'): 3\n",
    "}\n",
    "m.t = pyo.Param(m.I, m.J, initialize=time_data)"
   ]
  },
  {
   "cell_type": "markdown",
   "metadata": {},
   "source": [
    "Let's examine our parameters:"
   ]
  },
  {
   "cell_type": "code",
   "execution_count": 10,
   "metadata": {},
   "outputs": [
    {
     "name": "stdout",
     "output_type": "stream",
     "text": [
      "Unit Profits:\n",
      "P1 100\n",
      "P2 150\n",
      "P3 200\n",
      "\n",
      "Machine Costs:\n",
      "M1 50\n",
      "M2 40\n",
      "\n",
      "Machine Capacities:\n",
      "M1 160\n",
      "M2 200\n",
      "\n",
      "Processing Times:\n",
      "P1 M1 2\n",
      "P1 M2 3\n",
      "P2 M1 3\n",
      "P2 M2 2\n",
      "P3 M1 4\n",
      "P3 M2 3\n"
     ]
    }
   ],
   "source": [
    "# Print unit profits\n",
    "print(\"Unit Profits:\")\n",
    "for i in m.I:\n",
    "    print(i, m.p[i])\n",
    "\n",
    "# Print machine costs\n",
    "print(\"\\nMachine Costs:\")\n",
    "for j in m.J:\n",
    "    print(j, m.c[j])\n",
    "\n",
    "# Print machine capacities\n",
    "print(\"\\nMachine Capacities:\")\n",
    "for j in m.J:\n",
    "    print(j, m.cap[j])\n",
    "\n",
    "# Print processing times\n",
    "print(\"\\nProcessing Times:\")\n",
    "for i in m.I:\n",
    "    for j in m.J:\n",
    "        print(i, j, m.t[i,j])"
   ]
  },
  {
   "cell_type": "markdown",
   "metadata": {},
   "source": [
    "## Using Parameters in Expressions\n",
    "\n",
    "The important role of parameters is to be used in expressions in our model. Let's create some common expressions:"
   ]
  },
  {
   "cell_type": "code",
   "execution_count": 11,
   "metadata": {},
   "outputs": [
    {
     "name": "stdout",
     "output_type": "stream",
     "text": [
      "Total profit expression:  100*x[P1] + 150*x[P2] + 200*x[P3]\n",
      "Total profit value:  72500\n",
      "\n",
      "Total cost expression:  50*y[P1,M1] + 40*y[P1,M2] + 50*y[P2,M1] + 40*y[P2,M2] + 50*y[P3,M1] + 40*y[P3,M2]\n",
      "Total cost value:  770\n",
      "\n",
      "Machine M1 usage expression:  2*x[P1] + 3*x[P2] + 4*x[P3]\n",
      "Machine M1 usage value:  1450\n"
     ]
    }
   ],
   "source": [
    "# Total revenue expression\n",
    "total_profit = sum(m.p[i] * m.x[i] for i in m.I)\n",
    "print(\"Total profit expression: \", total_profit)\n",
    "print(\"Total profit value: \", total_profit())\n",
    "\n",
    "# Total production cost expression\n",
    "total_cost = sum(m.c[j] * m.y[i,j] for i in m.I for j in m.J)\n",
    "print(\"\\nTotal cost expression: \", total_cost)\n",
    "print(\"Total cost value: \", total_cost())\n",
    "\n",
    "# Machine utilization for M1\n",
    "m1_usage = sum(m.t[i,'M1'] * m.x[i] for i in m.I)\n",
    "print(\"\\nMachine M1 usage expression: \", m1_usage)\n",
    "print(\"Machine M1 usage value: \", m1_usage())"
   ]
  },
  {
   "cell_type": "markdown",
   "metadata": {},
   "source": [
    "## Mutable vs Immutable Parameters\n",
    "\n",
    "By default, parameters in Pyomo are immutable (cannot be changed after initialization). However, we can create mutable parameters that can be updated by using `mutable=True` in the initialization. When we do this, we need to use `()` to access the value of the parameter, since the parameter will behave similar to a variable."
   ]
  },
  {
   "cell_type": "code",
   "execution_count": 12,
   "metadata": {},
   "outputs": [
    {
     "name": "stdout",
     "output_type": "stream",
     "text": [
      "Original demand for P1:  100\n",
      "Updated demand for P1:  120\n"
     ]
    }
   ],
   "source": [
    "# Create a parameter for demand\n",
    "demand_data = {'P1': 100, 'P2': 150, 'P3': 200}\n",
    "m.d = pyo.Param(m.I, initialize=demand_data, mutable=True)\n",
    "\n",
    "# Print original value\n",
    "print(\"Original demand for P1: \", m.d['P1']())\n",
    "\n",
    "# Update the parameter\n",
    "m.d['P1'] = 120\n",
    "\n",
    "# Print new value\n",
    "print(\"Updated demand for P1: \", m.d['P1']())"
   ]
  },
  {
   "cell_type": "markdown",
   "metadata": {},
   "source": [
    "You will get an error if you try to update an immutable parameter, which is the default behavior in Pyomo. \n",
    "\n",
    "In most cases, we will use immutable parameters in our model in this course.\n"
   ]
  },
  {
   "cell_type": "markdown",
   "metadata": {},
   "source": [
    "## Loading Parameters from External Sources\n",
    "\n",
    "In practice, parameter values often come from external sources like CSV files or databases. Here's how we can load parameters from a dictionary (which could come from a CSV):"
   ]
  },
  {
   "cell_type": "code",
   "execution_count": 13,
   "metadata": {},
   "outputs": [
    {
     "name": "stdout",
     "output_type": "stream",
     "text": [
      "{'Product': ['P1', 'P2', 'P3'], 'Quality_Rating': [95, 88, 92]}\n"
     ]
    }
   ],
   "source": [
    "# Example data that might come from a CSV or database\n",
    "quality_data = {\n",
    "    'Product': ['P1', 'P2', 'P3'],\n",
    "    'Quality_Rating': [95, 88, 92]\n",
    "}\n",
    "\n",
    "print(quality_data)"
   ]
  },
  {
   "cell_type": "markdown",
   "metadata": {},
   "source": [
    "This is not a standard dictionary format for Pyomo. We need to convert it to a dictionary format for Pyomo, which needs the index to be the key and the value to be the value. We can use the `zip` function to do this."
   ]
  },
  {
   "cell_type": "code",
   "execution_count": 14,
   "metadata": {},
   "outputs": [
    {
     "name": "stdout",
     "output_type": "stream",
     "text": [
      "{'P1': 95, 'P2': 88, 'P3': 92}\n"
     ]
    }
   ],
   "source": [
    "# Convert to dictionary format for Pyomo\n",
    "quality_dict = dict(zip(quality_data['Product'], quality_data['Quality_Rating']))\n",
    "\n",
    "print(quality_dict)"
   ]
  },
  {
   "cell_type": "markdown",
   "metadata": {},
   "source": [
    "We can now use this dictionary to initialize our parameter."
   ]
  },
  {
   "cell_type": "code",
   "execution_count": 15,
   "metadata": {},
   "outputs": [
    {
     "name": "stdout",
     "output_type": "stream",
     "text": [
      "Quality Ratings:\n",
      "P1 95\n",
      "P2 88\n",
      "P3 92\n"
     ]
    }
   ],
   "source": [
    "# Create parameter\n",
    "m.q = pyo.Param(m.I, initialize=quality_dict)\n",
    "\n",
    "# Print values\n",
    "print(\"Quality Ratings:\")\n",
    "for i in m.I:\n",
    "    print(i, m.q[i])"
   ]
  },
  {
   "cell_type": "markdown",
   "metadata": {},
   "source": [
    "## Default Values and Missing Data\n",
    "\n",
    "We can specify default values for parameters when some data might be missing using the `default` keyword in the initialization. This is useful when we want to create a parameter with a default value for all indices that are not explicitly defined in the initialization."
   ]
  },
  {
   "cell_type": "code",
   "execution_count": 16,
   "metadata": {},
   "outputs": [
    {
     "name": "stdout",
     "output_type": "stream",
     "text": [
      "Setup Times:\n",
      "P1 M1 30\n",
      "P1 M2 25\n",
      "P2 M1 0\n",
      "P2 M2 0\n",
      "P3 M1 35\n",
      "P3 M2 30\n"
     ]
    }
   ],
   "source": [
    "# Setup times with some missing data\n",
    "setup_data = {\n",
    "    ('P1','M1'): 30, ('P1','M2'): 25,\n",
    "    ('P3','M1'): 35, ('P3','M2'): 30\n",
    "}\n",
    "\n",
    "# Create parameter with default value\n",
    "m.setup = pyo.Param(m.I, m.J, initialize=setup_data, default=0)\n",
    "\n",
    "# Print values\n",
    "print(\"Setup Times:\")\n",
    "for i in m.I:\n",
    "    for j in m.J:\n",
    "        print(i, j, m.setup[i,j])"
   ]
  },
  {
   "cell_type": "markdown",
   "metadata": {},
   "source": [
    "## Using Parameters in Common Production Planning Expressions\n",
    "\n",
    "Let's see some typical expressions using our parameters:"
   ]
  },
  {
   "cell_type": "code",
   "execution_count": 17,
   "metadata": {},
   "outputs": [
    {
     "name": "stdout",
     "output_type": "stream",
     "text": [
      "Net profit expression:  100*x[P1] + 150*x[P2] + 200*x[P3] - (50*y[P1,M1] + 40*y[P1,M2] + 50*y[P2,M1] + 40*y[P2,M2] + 50*y[P3,M1] + 40*y[P3,M2])\n",
      "Net profit value:  71730\n",
      "\n",
      "Quality-weighted production:  95*x[P1] + 88*x[P2] + 92*x[P3]\n",
      "Quality-weighted production value:  41100\n",
      "\n",
      "Total setup and processing time on M1:  30 + 2*x[P1] + 3*x[P2] + 35 + 4*x[P3]\n",
      "Total setup and processing time on M1 value:  1515\n"
     ]
    }
   ],
   "source": [
    "# Net profit (revenue - cost)\n",
    "net_profit = total_profit - total_cost\n",
    "print(\"Net profit expression: \", net_profit)\n",
    "print(\"Net profit value: \", net_profit())\n",
    "\n",
    "# Quality-weighted production volume\n",
    "quality_weighted = sum(m.q[i] * m.x[i] for i in m.I)\n",
    "print(\"\\nQuality-weighted production: \", quality_weighted)\n",
    "print(\"Quality-weighted production value: \", quality_weighted())\n",
    "\n",
    "# Total time including setup on M1\n",
    "total_time_m1 = sum(m.setup[i,'M1'] + m.t[i,'M1'] * m.x[i] for i in m.I)\n",
    "print(\"\\nTotal setup and processing time on M1: \", total_time_m1)\n",
    "print(\"Total setup and processing time on M1 value: \", total_time_m1())"
   ]
  },
  {
   "cell_type": "markdown",
   "metadata": {},
   "source": [
    "In the next notebook, we will see how to formalize these expressions and store them as expressions in our model, which will allow us to use them in constraints, objectives, and output metrics."
   ]
  },
  {
   "cell_type": "markdown",
   "metadata": {},
   "source": [
    "## Conclusion\n",
    "\n",
    "We've covered the key aspects of parameters in Pyomo:\n",
    "\n",
    "1. Parameter Types:\n",
    "   - Scalar parameters (single values)\n",
    "   - Indexed parameters (over sets)\n",
    "   - Mutable vs immutable parameters\n",
    "\n",
    "2. Parameter Definition:\n",
    "   - Using initialize with values\n",
    "   - Setting default values\n",
    "\n",
    "3. Parameter Usage:\n",
    "   - In mathematical expressions\n",
    "   - Updating mutable parameters\n",
    "   - Loading from external data"
   ]
  },
  {
   "cell_type": "markdown",
   "metadata": {},
   "source": [
    "## Practice Exercises\n",
    "\n",
    "Now it's your turn to practice working with parameters. Consider a situation where you're planning production across multiple time periods:\n",
    "\n",
    "1. Create a model with:\n",
    "   \n",
    "   a. Products set $I = {P1, P2, P3}$\n",
    "\n",
    "   b. Time periods set $T = {T1, T2, T3, T4}$\n",
    "   \n",
    "   c. Decision variables:\n",
    "   \n",
    "     - Production amount for each product in each time period $x_{i,t}$ with domain NonNegativeReals and initialize value 0\n",
    "     - Storage amount for each product in each time period $y_{i,t}$ with domain NonNegativeReals and initialize value 0\n",
    "   \n",
    "2. Define the following parameters (immutable):\n",
    "   a. Unit production cost for each product (scalar) $$c = 10$$\n",
    "   b. Demand for each product in each time period (indexed) $$d = {P1: 100, P2: 150, P3: 200}$$\n",
    "   c. Storage cost for each product (indexed) $$s = {P1: 10, P2: 15, P3: 20}$$\n",
    "   d. Production capacity in each time period (indexed) $$cap = {T1: 160, T2: 200, T3: 180, T4: 220}$$\n",
    "   \n",
    "3. Create a mutable parameter for Unit price for each product (indexed) $$p = {P1: 20, P2: 30, P3: 40}$$\n",
    "\n",
    "4. Print the expressions and their values:\n",
    "   \n",
    "   a. Total production cost: $$\\sum_{i \\in I} c \\times x_{i,t}$$\n",
    "   b. Total storage cost: $$\\sum_{i \\in I} \\sum_{t \\in T} s_i \\times y_{i,t}$$\n",
    "   c. Revenues at each time period: $$\\sum_{i \\in I} p_i \\times x_{i,t}$$\n",
    "   d. Total revenues: $$\\sum_{i \\in I} \\sum_{t \\in T} p_i \\times x_{i,t}$$\n",
    "   e. Net profit: $$\\sum_{i \\in I} \\sum_{t \\in T} p_i \\times x_{i,t} - \\sum_{i \\in I} \\sum_{t \\in T} c \\times x_{i,t} - \\sum_{i \\in I} \\sum_{t \\in T} s_i \\times y_{i,t}$$"
   ]
  },
  {
   "cell_type": "code",
   "execution_count": 18,
   "metadata": {},
   "outputs": [],
   "source": [
    "# 1. Create model, sets, variables\n",
    "# Sets: I = {P1, P2, P3}, T = {T1, T2, T3, T4}\n",
    "# Variables: x_{i,t}, y_{i,t}\n",
    "### Write your code below ###\n"
   ]
  },
  {
   "cell_type": "code",
   "execution_count": 19,
   "metadata": {},
   "outputs": [],
   "source": [
    "# 2. Define basic parameters\n",
    "# c = 10, d = {P1: 100, P2: 150, P3: 200}, \n",
    "# s = {P1: 10, P2: 15, P3: 20}, \n",
    "# cap = {T1: 160, T2: 200, T3: 180, T4: 220}\n",
    "### Write your code below ###\n"
   ]
  },
  {
   "cell_type": "code",
   "execution_count": 20,
   "metadata": {},
   "outputs": [],
   "source": [
    "# 3. Create mutable price parameter\n",
    "# p = {P1: 20, P2: 30, P3: 40}\n",
    "### Write your code below ###\n"
   ]
  },
  {
   "cell_type": "code",
   "execution_count": 21,
   "metadata": {},
   "outputs": [],
   "source": [
    "# 4. Print the expressions and their values:\n",
    "# a. Total production cost: $$\\sum_{i \\in I} c \\times x_{i,t}$$\n",
    "### Write your code below ###\n"
   ]
  },
  {
   "cell_type": "code",
   "execution_count": 22,
   "metadata": {},
   "outputs": [],
   "source": [
    "# 4. b. Total storage cost: $$\\sum_{i \\in I} \\sum_{t \\in T} s_i \\times y_{i,t}$$\n",
    "### Write your code below ###\n"
   ]
  },
  {
   "cell_type": "code",
   "execution_count": 23,
   "metadata": {},
   "outputs": [],
   "source": [
    "# 4. c. Revenues at each time period: $$\\sum_{i \\in I} p_i \\times x_{i,t}$$\n",
    "### Write your code below ###\n"
   ]
  },
  {
   "cell_type": "code",
   "execution_count": 24,
   "metadata": {},
   "outputs": [],
   "source": [
    "# 4. d. Total revenues: $$\\sum_{i \\in I} \\sum_{t \\in T} p_i \\times x_{i,t}$$\n",
    "### Write your code below ###\n"
   ]
  },
  {
   "cell_type": "code",
   "execution_count": 25,
   "metadata": {},
   "outputs": [],
   "source": [
    "# 4. e. Net profit: $$\\sum_{i \\in I} \\sum_{t \\in T} p_i \\times x_{i,t} - \\sum_{i \\in I} \\sum_{t \\in T} c \\times x_{i,t} - \\sum_{i \\in I} \\sum_{t \\in T} s_i \\times y_{i,t}$$\n",
    "### Write your code below ###\n"
   ]
  }
 ],
 "metadata": {
  "kernelspec": {
   "display_name": "Python 3",
   "language": "python",
   "name": "python3"
  },
  "language_info": {
   "codemirror_mode": {
    "name": "ipython",
    "version": 3
   },
   "file_extension": ".py",
   "mimetype": "text/x-python",
   "name": "python",
   "nbconvert_exporter": "python",
   "pygments_lexer": "ipython3",
   "version": "3.9.12"
  }
 },
 "nbformat": 4,
 "nbformat_minor": 2
}
