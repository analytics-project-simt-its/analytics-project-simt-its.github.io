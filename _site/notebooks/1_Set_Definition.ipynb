{
 "cells": [
  {
   "cell_type": "markdown",
   "metadata": {},
   "source": [
    "# 1. Set Definition for Optimization Models\n",
    "\n",
    "This notebook is part of a step-by-step guide to creating an optimization model. We will follow this 7-step procedure:\n",
    "\n",
    "1. Import Pyomo\n",
    "2. Define the sets\n",
    "3. Define the decision variables\n",
    "4. Define the parameters\n",
    "5. Define the expressions\n",
    "6. Define the objective function\n",
    "7. Define the constraints\n",
    "\n",
    "This notebook is the first step in this process. We will define the sets for our model.\n",
    "\n",
    "We will mainly use Pyomo, but the steps are applicable to other modeling languages as well. We will use the example of a simple linear program to illustrate the process. The model we will create is a simple linear program with five decision variables and two constraints. The decision variables are: \n",
    "$$x_1, x_2, x_3, x_4, x_5$$ \n",
    "\n",
    "The main constraints are: \n",
    "\n",
    "- $x_1 + x_2 + x_3 + x_4 + x_5 \\leq 40$ \n",
    "\n",
    "- $x_1 + 2x_2 + 2x_3 + x_4 + 6x_5 \\geq 50$, \n",
    "\n",
    "where each $x_i$ is a non-negative real number.\n",
    "  \n",
    "The objective function is $3x_1 + 2x_2 + x_3 + 6x_4 + 4x_5$."
   ]
  },
  {
   "cell_type": "markdown",
   "metadata": {},
   "source": [
    "## Setup: Importing Pyomo\n",
    "\n",
    "As usual, we need to import the relevant libraries. For this notebook, we only need Pyomo. We can import it as follows:\n",
    "\n",
    "```python\n",
    "import pyomo.environ as pyo\n",
    "```"
   ]
  },
  {
   "cell_type": "code",
   "execution_count": 1,
   "metadata": {},
   "outputs": [],
   "source": [
    "import pyomo.environ as pyo"
   ]
  },
  {
   "cell_type": "markdown",
   "metadata": {},
   "source": [
    "What this does is that it imports the Pyomo environment into the current namespace as `pyo` so that we can use it to create our model. Anytime we want to use Pyomo functions, we need to prefix them with `pyo`. For example, to create a set of integers $I = \\{1, 2, 3, 4, 5\\}$ we need to use `pyo.Set(initialize=[1, 2, 3, 4, 5])`."
   ]
  },
  {
   "cell_type": "markdown",
   "metadata": {},
   "source": [
    "Since we want to test the code in this notebook, we need to initiate a model as well. We can do this as follows:"
   ]
  },
  {
   "cell_type": "code",
   "execution_count": 2,
   "metadata": {},
   "outputs": [],
   "source": [
    "m = pyo.ConcreteModel()"
   ]
  },
  {
   "cell_type": "markdown",
   "metadata": {},
   "source": [
    "What this does is that it creates an empty model. We can see the model by printing it:"
   ]
  },
  {
   "cell_type": "code",
   "execution_count": 3,
   "metadata": {},
   "outputs": [
    {
     "name": "stdout",
     "output_type": "stream",
     "text": [
      "0 Declarations: \n"
     ]
    }
   ],
   "source": [
    "m.pprint()"
   ]
  },
  {
   "cell_type": "markdown",
   "metadata": {},
   "source": [
    "It shows an empty model with no components (just yet). We will add sets and variables to this model later on."
   ]
  },
  {
   "cell_type": "markdown",
   "metadata": {},
   "source": [
    "## What are sets?\n",
    "\n",
    "It is a good practice to define the sets of objects that we will use in our model first. Sets are collections of elements. This will help us to create the decision variables and other components of the model later on.\n",
    "\n",
    "- For our problem, we have five decision variables, so we need to define a set of integers $I = \\{1, 2, 3, 4, 5\\}$. \n",
    "\n",
    "- In other problems, we may have more complex sets. For example, in a transportation problem, we may have a set of $n$ suppliers and a set of $m$ destinations.\n",
    "\n",
    "- In production planning problems, we may have a set of $n$ products and a set of $m$ resources.\n"
   ]
  },
  {
   "cell_type": "markdown",
   "metadata": {},
   "source": [
    "## Why are sets important?\n",
    "\n",
    "Sets are critical in optimization models because they allow us to compactly represent the structure of the problem. For example, in our problem, we have five decision variables $x_1, x_2, x_3, x_4, x_5$. Everytime we use a decision variable, we need to refer to it by its index. This can be cumbersome and error-prone. Sets allow us to define a symbolic name for each decision variable, which makes the model more readable and easier to understand.\n",
    "\n",
    "For example, instead of writing $x_1, x_2, x_3, x_4, x_5$, we can introduce a set of integers $I = \\{1, 2, 3, 4, 5\\}$ and write $x_i$ for $i \\in I$. This is can be read as \"x i for all $i$ in $I$.\n",
    "\n",
    "Similarly, instead of writing $x_1 + x_2 + x_3 + x_4 + x_5 \\leq 40$, we can write $\\sum_{i \\in I} x_i \\leq 40$. This is read as \"the sum of x i for all $i$ in $I$ is less than or equal to 40\".\n",
    "\n",
    "This is a good practice because it will form the basis for the model that we will create later on.\n",
    "\n",
    "## How to define sets in Pyomo\n",
    "\n",
    "To create a set, we use Pyomo's `Set` function with the `initialize` keyword argument. This argument takes a list of elements that we want to include in the set. \n",
    "\n",
    "For our problem, we can either pass a list of integers to define the set:\n",
    "\n",
    "```python\n",
    "I = pyo.Set(initialize=[1, 2, 3, 4, 5])\n",
    "```\n",
    "\n",
    "or we can use the `RangeSet` function to create a set of integers from 1 to 5:\n",
    "\n",
    "```python\n",
    "I = pyo.RangeSet(5)\n",
    "```\n"
   ]
  },
  {
   "cell_type": "markdown",
   "metadata": {},
   "source": [
    "To create a set, we use Pyomo's `Set` function with the `initialize` keyword argument. This argument takes a list of elements that we want to include in the set. \n",
    "\n",
    "For our problem, we can either pass a list of integers to define the set:\n",
    "\n",
    "```python\n",
    "I = pyo.Set(initialize=[1, 2, 3, 4, 5])\n",
    "```\n",
    "\n",
    "or we can use the `RangeSet` function to create a set of integers from 1 to 5:\n",
    "\n",
    "```python\n",
    "I = pyo.RangeSet(5)\n",
    "```"
   ]
  },
  {
   "cell_type": "code",
   "execution_count": 4,
   "metadata": {},
   "outputs": [],
   "source": [
    "I = pyo.RangeSet(5)"
   ]
  },
  {
   "cell_type": "markdown",
   "metadata": {},
   "source": [
    "We can see what is in the set by printing it:"
   ]
  },
  {
   "cell_type": "code",
   "execution_count": 5,
   "metadata": {},
   "outputs": [
    {
     "name": "stdout",
     "output_type": "stream",
     "text": [
      "[1:5]\n"
     ]
    }
   ],
   "source": [
    "print(I)"
   ]
  },
  {
   "cell_type": "markdown",
   "metadata": {},
   "source": [
    "We can also iterate over the set:"
   ]
  },
  {
   "cell_type": "code",
   "execution_count": 6,
   "metadata": {},
   "outputs": [
    {
     "name": "stdout",
     "output_type": "stream",
     "text": [
      "1\n",
      "2\n",
      "3\n",
      "4\n",
      "5\n"
     ]
    }
   ],
   "source": [
    "for i in I:\n",
    "    print(i)"
   ]
  },
  {
   "cell_type": "markdown",
   "metadata": {},
   "source": [
    "Let's now attach this set to our model. We can do this as follows:"
   ]
  },
  {
   "cell_type": "code",
   "execution_count": 7,
   "metadata": {},
   "outputs": [],
   "source": [
    "m.I = I"
   ]
  },
  {
   "cell_type": "markdown",
   "metadata": {},
   "source": [
    "What we did here is that we attached the set $I$ to our model $m$ as a component with the name `I`. We can see the model by printing it again:"
   ]
  },
  {
   "cell_type": "code",
   "execution_count": 8,
   "metadata": {},
   "outputs": [
    {
     "name": "stdout",
     "output_type": "stream",
     "text": [
      "1 RangeSet Declarations\n",
      "    I : Dimen=1, Size=5, Bounds=(1, 5)\n",
      "        Key  : Finite : Members\n",
      "        None :   True :   [1:5]\n",
      "\n",
      "1 Declarations: I\n"
     ]
    }
   ],
   "source": [
    "m.pprint()"
   ]
  },
  {
   "cell_type": "markdown",
   "metadata": {},
   "source": [
    "We can see that the set is now attached to the model. \n",
    "\n",
    "It is often useful to introduce the set as part of the model right away to avoid any confusion and redundancy. We can do this, for example, by adding the set to the model right away after creating the model:"
   ]
  },
  {
   "cell_type": "code",
   "execution_count": 9,
   "metadata": {},
   "outputs": [
    {
     "name": "stdout",
     "output_type": "stream",
     "text": [
      "1 Set Declarations\n",
      "    I : Size=1, Index=None, Ordered=Insertion\n",
      "        Key  : Dimen : Domain : Size : Members\n",
      "        None :     1 :    Any :    5 : {1, 2, 3, 4, 5}\n",
      "\n",
      "1 Declarations: I\n"
     ]
    }
   ],
   "source": [
    "m = pyo.ConcreteModel()\n",
    "m.I = pyo.Set(initialize=[1, 2, 3, 4, 5])\n",
    "m.pprint()"
   ]
  },
  {
   "cell_type": "markdown",
   "metadata": {},
   "source": [
    "## Seeing the set in action\n",
    "\n",
    "Suppose now we have a non-negative decision variable $x_i$ for each $i \\in I$ with some initial value 1. We can create a list of decision variables as follows:\n",
    "\n",
    "```python\n",
    "x = pyo.Var(I, domain=pyo.NonNegativeReals, initialize=1)\n",
    "```\n",
    "\n",
    "This creates a list of decision variables $x_1, x_2, x_3, x_4, x_5$ for each $i \\in I$. Let's initiate this decision variable as part of the model directly:"
   ]
  },
  {
   "cell_type": "code",
   "execution_count": 10,
   "metadata": {},
   "outputs": [],
   "source": [
    "m.x = pyo.Var(m.I, domain=pyo.NonNegativeReals, initialize=1)"
   ]
  },
  {
   "cell_type": "markdown",
   "metadata": {},
   "source": [
    "Note here that we attach $x$ as part of the model $m$ with the name `x`. \n",
    "\n",
    "Note also that since we defined $m.x$ with set $m.I$, Pyomo will automatically create a decision variable for each $i \\in m.I$. We can see the model by printing it again:"
   ]
  },
  {
   "cell_type": "code",
   "execution_count": 11,
   "metadata": {},
   "outputs": [
    {
     "name": "stdout",
     "output_type": "stream",
     "text": [
      "1 Set Declarations\n",
      "    I : Size=1, Index=None, Ordered=Insertion\n",
      "        Key  : Dimen : Domain : Size : Members\n",
      "        None :     1 :    Any :    5 : {1, 2, 3, 4, 5}\n",
      "\n",
      "1 Var Declarations\n",
      "    x : Size=5, Index=I\n",
      "        Key : Lower : Value : Upper : Fixed : Stale : Domain\n",
      "          1 :     0 :     1 :  None : False : False : NonNegativeReals\n",
      "          2 :     0 :     1 :  None : False : False : NonNegativeReals\n",
      "          3 :     0 :     1 :  None : False : False : NonNegativeReals\n",
      "          4 :     0 :     1 :  None : False : False : NonNegativeReals\n",
      "          5 :     0 :     1 :  None : False : False : NonNegativeReals\n",
      "\n",
      "2 Declarations: I x\n"
     ]
    }
   ],
   "source": [
    "m.pprint()"
   ]
  },
  {
   "cell_type": "markdown",
   "metadata": {},
   "source": [
    "The model $m$ now has two components: the set $I$ and the decision variable $x$ with the values 1 for each $i \\in I$.\n",
    "\n",
    "We can see the values of the decision variables by using the `value` method:"
   ]
  },
  {
   "cell_type": "code",
   "execution_count": 12,
   "metadata": {},
   "outputs": [
    {
     "name": "stdout",
     "output_type": "stream",
     "text": [
      "1\n",
      "1\n",
      "1\n",
      "1\n",
      "1\n"
     ]
    }
   ],
   "source": [
    "for i in m.I:\n",
    "    print(m.x[i].value)"
   ]
  },
  {
   "cell_type": "markdown",
   "metadata": {},
   "source": [
    "A more compact way to see the values of the decision variables is to use the '()' operator:"
   ]
  },
  {
   "cell_type": "code",
   "execution_count": 13,
   "metadata": {},
   "outputs": [
    {
     "name": "stdout",
     "output_type": "stream",
     "text": [
      "1\n",
      "1\n",
      "1\n",
      "1\n",
      "1\n"
     ]
    }
   ],
   "source": [
    "for i in m.I:\n",
    "    print(m.x[i]())"
   ]
  },
  {
   "cell_type": "markdown",
   "metadata": {},
   "source": [
    "An even more compact way to see the values is to use Python's list comprehension:"
   ]
  },
  {
   "cell_type": "code",
   "execution_count": 14,
   "metadata": {},
   "outputs": [
    {
     "data": {
      "text/plain": [
       "[1, 1, 1, 1, 1]"
      ]
     },
     "execution_count": 14,
     "metadata": {},
     "output_type": "execute_result"
    }
   ],
   "source": [
    "[m.x[i]() for i in m.I]"
   ]
  },
  {
   "cell_type": "markdown",
   "metadata": {},
   "source": [
    "What this does is that it creates a list of $x_i$ values of the decision variables for each $i \\in I$.\n",
    "\n",
    "In our modeling journey, we will use a lot of indexing and sets. We use them for creating decision variables, parameters, expressions, and constraints, assigning values to them, and extracting their values for further analysis."
   ]
  },
  {
   "cell_type": "markdown",
   "metadata": {},
   "source": [
    "## Summing over a set\n",
    "\n",
    "We can use the set, indexing, and sum operator to calculate the sum of the decision variables compactly:\n"
   ]
  },
  {
   "cell_type": "code",
   "execution_count": 15,
   "metadata": {},
   "outputs": [
    {
     "data": {
      "text/plain": [
       "<pyomo.core.expr.numeric_expr.LinearExpression at 0x7fbb62309d00>"
      ]
     },
     "execution_count": 15,
     "metadata": {},
     "output_type": "execute_result"
    }
   ],
   "source": [
    "sum(m.x[i] for i in m.I)"
   ]
  },
  {
   "cell_type": "markdown",
   "metadata": {},
   "source": [
    "This creates a Pyomo sum expression `x_1 + x_2 + x_3 + x_4 + x_5`. Notice that this reading is very similar to the mathematical notation $\\sum_{i \\in I} x_i$. To see the expression, we can print it:\n"
   ]
  },
  {
   "cell_type": "code",
   "execution_count": 16,
   "metadata": {},
   "outputs": [
    {
     "name": "stdout",
     "output_type": "stream",
     "text": [
      "x[1] + x[2] + x[3] + x[4] + x[5]\n"
     ]
    }
   ],
   "source": [
    "print(sum(m.x[i] for i in m.I))"
   ]
  },
  {
   "cell_type": "markdown",
   "metadata": {},
   "source": [
    "To see the value of the expression, we can use Pyomo's `value` method `pyo.value`:"
   ]
  },
  {
   "cell_type": "code",
   "execution_count": 17,
   "metadata": {},
   "outputs": [
    {
     "data": {
      "text/plain": [
       "5"
      ]
     },
     "execution_count": 17,
     "metadata": {},
     "output_type": "execute_result"
    }
   ],
   "source": [
    "pyo.value(sum(m.x[i] for i in m.I))"
   ]
  },
  {
   "cell_type": "markdown",
   "metadata": {},
   "source": [
    "Or, more compactly, we can use the '()' operator (similar to the '()' operator for decision variables):"
   ]
  },
  {
   "cell_type": "code",
   "execution_count": 18,
   "metadata": {},
   "outputs": [
    {
     "data": {
      "text/plain": [
       "5"
      ]
     },
     "execution_count": 18,
     "metadata": {},
     "output_type": "execute_result"
    }
   ],
   "source": [
    "sum(m.x[i] for i in m.I)()"
   ]
  },
  {
   "cell_type": "markdown",
   "metadata": {},
   "source": [
    "## Conclusion\n",
    "\n",
    "The true power of sets and indexing is that we can use them to create expressions and constraints compactly, regardless of the size of the set, especially when combined with the sum or other operators. We will see many more examples of sets and how they are used in the model. Here are some useful examples:\n",
    "\n",
    "- To initialize a concrete model $m$, we can use \n",
    "  ```python\n",
    "  m = pyo.ConcreteModel()\n",
    "  ```\n",
    "- To create a set $I$, containing integers from 1 to 5 for model $m$, we can use \n",
    "  ```python\n",
    "  m.I = pyo.RangeSet(5)\n",
    "  ```\n",
    "- To create a decision variable $x_i$ for each $i \\in I$ for model $m$ with initial value 1, we can use \n",
    "  ```python\n",
    "  m.x = pyo.Var(m.I, domain=pyo.NonNegativeReals, initialize=1)\n",
    "  ```\n",
    "- To create another decision variable $y_i$ for each $i \\in I$ for model $m$ with different initial values $yinit_i$:\n",
    "    - First, create a list of values: \n",
    "    ```python\n",
    "    yinit_i = [1, 2, 3, 4, 5]\n",
    "    ```\n",
    "    - Then, create the decision variable and intialize using a lambda function: \n",
    "    ```python\n",
    "    m.y = pyo.Var(m.I, domain=pyo.NonNegativeReals, initialize=lambda m, i: yinit_i[i-1])\n",
    "    ```"
   ]
  },
  {
   "cell_type": "code",
   "execution_count": 19,
   "metadata": {},
   "outputs": [
    {
     "name": "stdout",
     "output_type": "stream",
     "text": [
      "1 RangeSet Declarations\n",
      "    I : Dimen=1, Size=5, Bounds=(1, 5)\n",
      "        Key  : Finite : Members\n",
      "        None :   True :   [1:5]\n",
      "\n",
      "2 Var Declarations\n",
      "    x : Size=5, Index=I\n",
      "        Key : Lower : Value : Upper : Fixed : Stale : Domain\n",
      "          1 :     0 :     1 :  None : False : False : NonNegativeReals\n",
      "          2 :     0 :     1 :  None : False : False : NonNegativeReals\n",
      "          3 :     0 :     1 :  None : False : False : NonNegativeReals\n",
      "          4 :     0 :     1 :  None : False : False : NonNegativeReals\n",
      "          5 :     0 :     1 :  None : False : False : NonNegativeReals\n",
      "    y : Size=5, Index=I\n",
      "        Key : Lower : Value : Upper : Fixed : Stale : Domain\n",
      "          1 :     0 :     1 :  None : False : False : NonNegativeReals\n",
      "          2 :     0 :     2 :  None : False : False : NonNegativeReals\n",
      "          3 :     0 :     3 :  None : False : False : NonNegativeReals\n",
      "          4 :     0 :     4 :  None : False : False : NonNegativeReals\n",
      "          5 :     0 :     5 :  None : False : False : NonNegativeReals\n",
      "\n",
      "3 Declarations: I x y\n"
     ]
    }
   ],
   "source": [
    "# Create a model\n",
    "m = pyo.ConcreteModel()\n",
    "\n",
    "# Create a set\n",
    "m.I = pyo.RangeSet(5)\n",
    "\n",
    "# Create a decision variable\n",
    "m.x = pyo.Var(m.I, domain=pyo.NonNegativeReals, initialize=1)\n",
    "\n",
    "# Create a decision variable with different initial values\n",
    "yinit_i = [1, 2, 3, 4, 5]\n",
    "m.y = pyo.Var(m.I, domain=pyo.NonNegativeReals, initialize=lambda m, i: yinit_i[i-1])\n",
    "\n",
    "#print the model\n",
    "m.pprint()"
   ]
  },
  {
   "cell_type": "markdown",
   "metadata": {},
   "source": [
    "## Practice\n",
    "\n",
    "Now it's your turn to practice sets and indexing.\n",
    "\n",
    "1. Create a model $m$ with a set $I$ containing integers from 1 to 10.\n",
    "2. Create another set $J$ containing integers from 1 to 5.\n",
    "3. Create a decision variable $x_i$ for each $i \\in I$ with initial value 1.\n",
    "4. Create a decision variable $y_j$ for each $j \\in J$ with different initial values $yinit_j = [0, 0.5, 1, -1, -0.5]$.\n",
    "5. Print the Pyomo expression for the sum of the decision variables $x_i$ for all $i \\in I$.\n",
    "6. Print the value of the sum of the decision variables $x_i$ for all $i \\in I$.\n",
    "7. Print the Pyomo expression for the sum of the decision variables $y_j$ for all $j \\in J$.\n",
    "8. Print the value of the sum of the decision variables $y_j$ for all $j \\in J$.\n",
    "9. Print the Pyomo expression and its value:\n",
    "    $$ \\sum_{i \\in I} x_i + \\sum_{j \\in J} y_j $$\n",
    "    (it is read as \"the sum of x i for all i in I plus the sum of y j for all j in J\")\n",
    "10. Print the value of the expression:\n",
    "    $$ \\sum_{j \\in J} x_j * y_j $$\n"
   ]
  },
  {
   "cell_type": "code",
   "execution_count": 20,
   "metadata": {},
   "outputs": [],
   "source": [
    "# 1. Create a model\n",
    "# It should start with (without the # comment sign)\n",
    "# m = \n",
    "### write your code below ###\n"
   ]
  },
  {
   "cell_type": "code",
   "execution_count": 21,
   "metadata": {},
   "outputs": [],
   "source": [
    "# 2. Create a set\n",
    "# It should start with (without the # comment sign)\n",
    "# m.I = \n",
    "### write your code below ###\n"
   ]
  },
  {
   "cell_type": "code",
   "execution_count": 22,
   "metadata": {},
   "outputs": [],
   "source": [
    "# 3. Create a decision variable\n",
    "# It should start with (without the # comment sign)\n",
    "# m.x = \n",
    "### write your code below ###\n"
   ]
  },
  {
   "cell_type": "code",
   "execution_count": 23,
   "metadata": {},
   "outputs": [],
   "source": [
    "# 4. Create a decision variable with different initial values\n",
    "# It should start with (without the # comment sign)\n",
    "# yinit_j =\n",
    "# m.y = \n",
    "### write your code below ###\n"
   ]
  },
  {
   "cell_type": "code",
   "execution_count": 24,
   "metadata": {},
   "outputs": [],
   "source": [
    "# 5. Print the Pyomo expression for the sum of the decision variables $x_i$ for all $i \\in I$.\n",
    "# It should start with (without the # comment sign)\n",
    "# print(sum(\n",
    "### write your code below ###\n"
   ]
  },
  {
   "cell_type": "code",
   "execution_count": 25,
   "metadata": {},
   "outputs": [],
   "source": [
    "# 6. Print the value of the sum of the decision variables $x_i$ for all $i \\in I$.\n",
    "# It should start with (without the # comment sign)\n",
    "# print(\n",
    "### write your code below ###\n"
   ]
  },
  {
   "cell_type": "code",
   "execution_count": 26,
   "metadata": {},
   "outputs": [],
   "source": [
    "# 7. Print the Pyomo expression for the sum of the decision variables $y_j$ for all $j \\in J$.\n",
    "### write your code below ###\n"
   ]
  },
  {
   "cell_type": "code",
   "execution_count": 27,
   "metadata": {},
   "outputs": [],
   "source": [
    "# 8. Print the value of the sum of the decision variables $y_j$ for all $j \\in J$.\n",
    "### write your code below ###\n"
   ]
  },
  {
   "cell_type": "code",
   "execution_count": 28,
   "metadata": {},
   "outputs": [],
   "source": [
    "# 9. Print the Pyomo expression and its value:\n",
    "# $$ \\sum_{i \\in I} x_i + \\sum_{j \\in J} y_j $$\n",
    "### write your code below ###\n"
   ]
  },
  {
   "cell_type": "code",
   "execution_count": 29,
   "metadata": {},
   "outputs": [],
   "source": [
    "# 10. Print the value of the expression:\n",
    "# $$ \\sum_{j \\in J} x_j * y_j $$\n",
    "### write your code below ###\n"
   ]
  }
 ],
 "metadata": {
  "kernelspec": {
   "display_name": ".venv",
   "language": "python",
   "name": "python3"
  },
  "language_info": {
   "codemirror_mode": {
    "name": "ipython",
    "version": 3
   },
   "file_extension": ".py",
   "mimetype": "text/x-python",
   "name": "python",
   "nbconvert_exporter": "python",
   "pygments_lexer": "ipython3",
   "version": "3.9.12"
  }
 },
 "nbformat": 4,
 "nbformat_minor": 2
}
