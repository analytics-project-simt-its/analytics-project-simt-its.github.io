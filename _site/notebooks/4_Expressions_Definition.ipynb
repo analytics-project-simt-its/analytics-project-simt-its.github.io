{
 "cells": [
  {
   "cell_type": "markdown",
   "metadata": {},
   "source": [
    "# 4. Expressions for Optimization Models\n",
    "\n",
    "This notebook is part of our step-by-step guide to creating optimization models. We continue our 7-step procedure:\n",
    "\n",
    "1. ✓ Import Pyomo and Define the Sets\n",
    "2. ✓ Define the Decision Variables\n",
    "3. ✓ Define the Parameters\n",
    "4. ➡️ Define the Expressions\n",
    "5. Define the Objective Function\n",
    "6. Define the Constraints\n",
    "\n",
    "In this notebook, we explore how to create and manage expressions in Pyomo. Expressions combine variables and parameters using mathematical operations. They form the building blocks for objective functions and constraints.\n",
    "\n",
    "We will cover:\n",
    "- What are expressions and why they matter\n",
    "- How to create basic expressions\n",
    "- How to store expressions in the model\n",
    "- Common expression patterns\n",
    "- Best practices for managing expressions"
   ]
  },
  {
   "cell_type": "markdown",
   "metadata": {},
   "source": [
    "## Setup: Creating Our Model Environment\n",
    "\n",
    "Let's set up our model with some basic components from previous notebooks:"
   ]
  },
  {
   "cell_type": "code",
   "execution_count": 1,
   "metadata": {},
   "outputs": [],
   "source": [
    "import pyomo.environ as pyo\n",
    "\n",
    "# Create model\n",
    "m = pyo.ConcreteModel()\n",
    "\n",
    "# Define sets\n",
    "m.I = pyo.Set(initialize=['P1', 'P2', 'P3'])  # Products\n",
    "m.J = pyo.Set(initialize=['M1', 'M2'])        # Machines\n",
    "\n",
    "# Define variables\n",
    "m.x = pyo.Var(m.I, domain=pyo.NonNegativeReals, initialize={i: 100 for i in m.I}) # production of product i\n",
    "m.y = pyo.Var(m.I, m.J, domain=pyo.Binary) # production of product i on machine j\n",
    "\n",
    "# Define parameters\n",
    "m.p = pyo.Param(m.I, initialize={'P1': 10, 'P2': 15, 'P3': 20})  # Prices\n",
    "m.c = pyo.Param(m.J, initialize={'M1': 50, 'M2': 40})           # Machine costs\n",
    "m.d = pyo.Param(m.I, initialize={'P1': 80, 'P2': 120, 'P3': 60}) # Demand"
   ]
  },
  {
   "cell_type": "markdown",
   "metadata": {},
   "source": [
    "## Creating and Storing Expressions\n",
    "\n",
    "In Pyomo, we can create expressions in two ways:\n",
    "1. As temporary expressions that we use immediately\n",
    "2. As stored expressions that become part of our model\n",
    "\n",
    "Let's look at both approaches:"
   ]
  },
  {
   "cell_type": "code",
   "execution_count": 2,
   "metadata": {},
   "outputs": [
    {
     "name": "stdout",
     "output_type": "stream",
     "text": [
      "Temporary expression: 10*x[P1] + 15*x[P2] + 20*x[P3]\n",
      "Expression value: 4500\n"
     ]
    }
   ],
   "source": [
    "# Temporary expression - revenue calculation\n",
    "revenue = sum(m.p[i] * m.x[i] for i in m.I)\n",
    "print(f\"Temporary expression: {revenue}\")\n",
    "print(f\"Expression value: {revenue()}\")"
   ]
  },
  {
   "cell_type": "code",
   "execution_count": 3,
   "metadata": {},
   "outputs": [],
   "source": [
    "# Stored expression - becomes part of the model\n",
    "m.revenue = pyo.Expression(expr=sum(m.p[i] * m.x[i] for i in m.I))\n",
    "m.machine_usage = pyo.Expression(m.J, rule=lambda m, j: sum(m.y[i,j] for i in m.I))"
   ]
  },
  {
   "cell_type": "markdown",
   "metadata": {},
   "source": [
    "The key difference is that stored expressions:\n",
    "- Are accessible throughout the model\n",
    "- Can be referenced in other expressions\n",
    "- Can be monitored and analyzed after solving\n",
    "- Make the model more readable and maintainable"
   ]
  },
  {
   "cell_type": "markdown",
   "metadata": {},
   "source": [
    "## Common Expression Patterns\n",
    "\n",
    "Let's explore some typical expression patterns in optimization models:"
   ]
  },
  {
   "cell_type": "code",
   "execution_count": 4,
   "metadata": {},
   "outputs": [],
   "source": [
    "# 1. Simple summation\n",
    "m.total_production = pyo.Expression(expr=sum(m.x[i] for i in m.I))\n",
    "\n",
    "# 2. Weighted sum\n",
    "m.total_cost = pyo.Expression(\n",
    "    expr=sum(m.c[j] * sum(m.y[i,j] for i in m.I) for j in m.J)\n",
    ")\n",
    "\n",
    "# 3. Ratio expression\n",
    "m.avg_price = pyo.Expression(\n",
    "    expr=sum(m.p[i] * m.x[i] for i in m.I) / sum(m.x[i] for i in m.I)\n",
    ")\n",
    "\n",
    "# 4. Conditional summation\n",
    "def capacity_rule(m):\n",
    "    return sum(m.y[i,j] for i in m.I for j in m.J \n",
    "              if m.d[i] > 100)  # Only for high-demand products\n",
    "m.high_demand_capacity = pyo.Expression(rule=capacity_rule)"
   ]
  },
  {
   "cell_type": "markdown",
   "metadata": {},
   "source": [
    "## Using Expressions in Constraints and Objectives\n",
    "\n",
    "Stored expressions make our constraints and objectives much clearer:"
   ]
  },
  {
   "cell_type": "code",
   "execution_count": 5,
   "metadata": {},
   "outputs": [],
   "source": [
    "# Define profit expression\n",
    "m.profit = pyo.Expression(expr=m.revenue - m.total_cost)\n",
    "\n",
    "# Use in objective (we'll cover this more in the next notebook)\n",
    "m.obj = pyo.Objective(expr=m.profit, sense=pyo.maximize)\n",
    "\n",
    "# Use in constraints (we'll cover this more later)\n",
    "m.min_profit = pyo.Constraint(expr=m.profit >= 1000)\n",
    "m.capacity = pyo.Constraint(m.J,\n",
    "    rule=lambda m, j: sum(m.x[i] * m.y[i,j] for i in m.I) <= 500)"
   ]
  },
  {
   "cell_type": "markdown",
   "metadata": {},
   "source": [
    "## Best Practices for Expressions\n",
    "\n",
    "When working with expressions in Pyomo:\n",
    "\n",
    "1. Use meaningful names that reflect what the expression represents\n",
    "\n",
    "2. Store expressions that will be used multiple times\n",
    "\n",
    "3. Break complex expressions into smaller, more manageable parts\n",
    "\n",
    "4. Use expression rules for complex logic\n",
    "\n",
    "5. Document the meaning and units of expressions\n",
    "\n",
    "Here's an example applying these practices:"
   ]
  },
  {
   "cell_type": "code",
   "execution_count": 6,
   "metadata": {},
   "outputs": [],
   "source": [
    "# Clear expression names\n",
    "def production_cost_rule(m, i):\n",
    "    \"\"\"Calculate total production cost for product i across all machines\"\"\"\n",
    "    return sum(m.c[j] * m.y[i,j] for j in m.J)\n",
    "\n",
    "def revenue_rule(m, i):\n",
    "    \"\"\"Calculate revenue for product i based on price and production\"\"\"\n",
    "    return m.p[i] * m.x[i]\n",
    "\n",
    "# Store expressions with documentation\n",
    "m.production_cost = pyo.Expression(m.I, rule=production_cost_rule)\n",
    "m.product_revenue = pyo.Expression(m.I, rule=revenue_rule)\n",
    "m.product_profit = pyo.Expression(m.I, \n",
    "    rule=lambda m, i: m.product_revenue[i] - m.production_cost[i])"
   ]
  },
  {
   "cell_type": "markdown",
   "metadata": {},
   "source": [
    "## Practice Exercises\n",
    "\n",
    "1. Use the model setup from the beginning of the notebook to create the model, sets, variables and parameters.\n",
    "2. Create the expression for total production $$Q = \\sum_{i \\in I} x_i $$\n",
    "3. Create the expression for utilization percentage on each machine $$u_i = \\frac{x_i}{Q}$$\n",
    "4. Create the expression for total profit $$\\text{profit} = \\sum_{i \\in I} \\text{profit of product i} \\times x_i $$ \n",
    "5. Create the expression for total demand satisfaction percentage $$ds_i = \\frac{x_i}{\\text{demand of product i}} $$\n",
    "6. Create the expression for machine utilization balance (max vs min usage) $$b = \\frac{\\text{max utilization percentage}}{\\text{min utilization percentage}}$$"
   ]
  },
  {
   "cell_type": "code",
   "execution_count": 7,
   "metadata": {},
   "outputs": [],
   "source": [
    "#1. Set up the model (copy from the beginning of the notebook)\n"
   ]
  },
  {
   "cell_type": "code",
   "execution_count": 8,
   "metadata": {},
   "outputs": [],
   "source": [
    "#2. Create the expression for total production $$Q = \\sum_{i \\in I} x_i $$\n"
   ]
  },
  {
   "cell_type": "code",
   "execution_count": 9,
   "metadata": {},
   "outputs": [],
   "source": [
    "#3. Create the expression for utilization percentage on each machine $$u_i = x_i/Q$$\n"
   ]
  },
  {
   "cell_type": "code",
   "execution_count": 10,
   "metadata": {},
   "outputs": [],
   "source": [
    "#4. Create the expression for total profit $$\\sum_{i \\in I} profit of product i * x_i $$ \n"
   ]
  },
  {
   "cell_type": "code",
   "execution_count": 11,
   "metadata": {},
   "outputs": [],
   "source": [
    "#5. Create the expression for total demand satisfaction percentage $$ds_i = x_i/demand of product i$$\n"
   ]
  },
  {
   "cell_type": "code",
   "execution_count": 12,
   "metadata": {},
   "outputs": [],
   "source": [
    "#6. Create the expression for machine utilization balance (max vs min usage) $$b = max(u_i)/min(u_i)$$"
   ]
  }
 ],
 "metadata": {
  "kernelspec": {
   "display_name": "Python 3",
   "language": "python",
   "name": "python3"
  },
  "language_info": {
   "codemirror_mode": {
    "name": "ipython",
    "version": 3
   },
   "file_extension": ".py",
   "mimetype": "text/x-python",
   "name": "python",
   "nbconvert_exporter": "python",
   "pygments_lexer": "ipython3",
   "version": "3.9.12"
  }
 },
 "nbformat": 4,
 "nbformat_minor": 2
}
