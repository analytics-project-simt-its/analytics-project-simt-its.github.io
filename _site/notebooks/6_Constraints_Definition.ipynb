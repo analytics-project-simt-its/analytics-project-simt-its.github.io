{
 "cells": [
  {
   "cell_type": "markdown",
   "metadata": {},
   "source": [
    "# 6. Constraints for Optimization Models\n",
    "\n",
    "This notebook continues our step-by-step guide to creating optimization models. We are now at step 6 of our 7-step procedure:\n",
    "\n",
    "1. ✓ Import Pyomo and Define the Sets\n",
    "2. ✓ Define the Decision Variables\n",
    "3. ✓ Define the Parameters\n",
    "4. ✓ Define the Expressions\n",
    "5. ✓ Define the Objective Function\n",
    "6. ➡️ Define the Constraints\n",
    "\n",
    "In this notebook, we focus on defining constraints - the rules that determine what solutions are feasible. We will explore:\n",
    "- How to formulate different types of constraints\n",
    "- Common constraint patterns\n",
    "- Best practices for constraint definition\n",
    "- Ways to structure complex constraint systems"
   ]
  },
  {
   "cell_type": "markdown",
   "metadata": {},
   "source": [
    "## Setup: Creating Our Model Environment\n",
    "\n",
    "Let's continue with our production planning example:"
   ]
  },
  {
   "cell_type": "code",
   "execution_count": 1,
   "metadata": {},
   "outputs": [],
   "source": [
    "# Create model\n",
    "import pyomo.environ as pyo \n",
    "\n",
    "m = pyo.ConcreteModel()\n",
    "\n",
    "# Sets\n",
    "m.I = pyo.Set(initialize=['P1', 'P2', 'P3'])  # Products\n",
    "m.J = pyo.Set(initialize=['M1', 'M2'])        # Machines\n",
    "\n",
    "# Variables  \n",
    "m.x = pyo.Var(m.I, domain=pyo.NonNegativeReals, initialize={'P1': 10, 'P2': 20, 'P3': 30})      # Production quantities\n",
    "m.y = pyo.Var(m.I, m.J, domain=pyo.Binary, initialize={(i, j): 0 for i in m.I for j in m.J})           # Machine assignments\n",
    "\n",
    "# Parameters\n",
    "m.p = pyo.Param(m.I, initialize={'P1': 100, 'P2': 150, 'P3': 200})  # Product prices\n",
    "m.c = pyo.Param(m.J, initialize={'M1': 50, 'M2': 40})               # Machine costs\n",
    "m.d = pyo.Param(m.I, initialize={'P1': 80, 'P2': 120, 'P3': 60})    # Demands\n",
    "m.cap = pyo.Param(m.J, initialize={'M1': 160, 'M2': 200})           # Machine capacities\n",
    "\n",
    "# Common expressions\n",
    "m.revenue = pyo.Expression(expr=sum(m.p[i] * m.x[i] for i in m.I))\n",
    "m.production_cost = pyo.Expression(expr=sum(m.c[j] * m.y[i,j] for i in m.I for j in m.J))"
   ]
  },
  {
   "cell_type": "markdown",
   "metadata": {},
   "source": [
    "## Basic Constraint Definition\n",
    "\n",
    "In Pyomo, constraints are mathematical relationships that must be satisfied by the solution. They can be:\n",
    "- Inequality constraints (<=, >=) \n",
    "- Equality constraints (==)\n",
    "- Range constraints (bounds)\n",
    "  \n",
    "For each of these constraints, the structure is the same: \n",
    "- the set it applies to, \n",
    "- the function handler or rule, and \n",
    "- the expression.\n",
    "\n",
    "An example of a constraint is:\n",
    "\n",
    "```python\n",
    "m.capacity = pyo.Constraint(\n",
    "    m.J,\n",
    "    rule=lambda m, j: sum(m.x[i] for i in m.I) <= m.cap[j]\n",
    ")\n",
    "```\n",
    "\n",
    "Here, \n",
    "\n",
    "- `m.J` is the set it applies to (it can be set of machines, products, etc.)\n",
    "- `lambda m, j` is the function handler or rule (it basically means that for each machine `j` in the set `m.J`, the formula `lambda` is applied)\n",
    "- `sum(m.x[i] for i in m.I) <= m.cap[j]` is the logical expression\n",
    "    - `sum(m.x[i] for i in m.I)` is the left-hand side of the expression\n",
    "    - `m.cap[j]` is the right-hand side of the expression\n",
    "    - `<=` is the inequality operator\n",
    "\n",
    "Let's look at an example:"
   ]
  },
  {
   "cell_type": "code",
   "execution_count": 2,
   "metadata": {},
   "outputs": [],
   "source": [
    "# Basic capacity constraint\n",
    "m.capacity = pyo.Constraint(\n",
    "    m.J,\n",
    "    rule=lambda m, j: sum(m.x[i] for i in m.I) <= m.cap[j]\n",
    ")"
   ]
  },
  {
   "cell_type": "markdown",
   "metadata": {},
   "source": [
    "We can print each constraint by accessing the constraint object directly:"
   ]
  },
  {
   "cell_type": "code",
   "execution_count": 3,
   "metadata": {},
   "outputs": [
    {
     "name": "stdout",
     "output_type": "stream",
     "text": [
      "x[P1] + x[P2] + x[P3]  <=  160\n"
     ]
    }
   ],
   "source": [
    "print(m.capacity['M1'].expr)"
   ]
  },
  {
   "cell_type": "markdown",
   "metadata": {},
   "source": [
    "Or iterate over the constraints set:"
   ]
  },
  {
   "cell_type": "code",
   "execution_count": 4,
   "metadata": {},
   "outputs": [
    {
     "name": "stdout",
     "output_type": "stream",
     "text": [
      "M1 x[P1] + x[P2] + x[P3]  <=  160\n",
      "The value of the constraint is: 60\n",
      "M2 x[P1] + x[P2] + x[P3]  <=  200\n",
      "The value of the constraint is: 60\n"
     ]
    }
   ],
   "source": [
    "for j in m.J:\n",
    "    print(j, m.capacity[j].expr)\n",
    "    print(\"The value of the constraint is:\", m.capacity[j]())\n"
   ]
  },
  {
   "cell_type": "markdown",
   "metadata": {},
   "source": [
    "Note that the value of the constraint is the left-hand side of the constraint (here, we have not solved the model yet and only evaluated the constraints at the initial value of the variables).\n",
    "\n",
    "\n",
    "Let's look at another example:"
   ]
  },
  {
   "cell_type": "code",
   "execution_count": 5,
   "metadata": {},
   "outputs": [
    {
     "name": "stdout",
     "output_type": "stream",
     "text": [
      "80  <=  x[P1]\n",
      "P1 80  <=  x[P1]\n",
      "The value of the constraint is: 10\n",
      "P2 120  <=  x[P2]\n",
      "The value of the constraint is: 20\n",
      "P3 60  <=  x[P3]\n",
      "The value of the constraint is: 30\n"
     ]
    }
   ],
   "source": [
    "# Demand satisfaction constraint  \n",
    "m.demand = pyo.Constraint(\n",
    "    m.I,\n",
    "    rule=lambda m, i: m.x[i] >= m.d[i]\n",
    ")\n",
    "\n",
    "print(m.demand['P1'].expr)\n",
    "for i in m.I:\n",
    "    print(i, m.demand[i].expr)\n",
    "    print(\"The value of the constraint is:\", m.demand[i]())\n"
   ]
  },
  {
   "cell_type": "markdown",
   "metadata": {},
   "source": [
    "Another way to display the constraints is to use the `pprint()` method:"
   ]
  },
  {
   "cell_type": "code",
   "execution_count": 6,
   "metadata": {},
   "outputs": [
    {
     "name": "stdout",
     "output_type": "stream",
     "text": [
      "demand : Size=3, Index=I, Active=True\n",
      "    Key : Lower : Body  : Upper : Active\n",
      "     P1 :  80.0 : x[P1] :  +Inf :   True\n",
      "     P2 : 120.0 : x[P2] :  +Inf :   True\n",
      "     P3 :  60.0 : x[P3] :  +Inf :   True\n"
     ]
    }
   ],
   "source": [
    "m.demand.pprint()"
   ]
  },
  {
   "cell_type": "markdown",
   "metadata": {},
   "source": [
    "Let's see one more example:"
   ]
  },
  {
   "cell_type": "code",
   "execution_count": 7,
   "metadata": {},
   "outputs": [
    {
     "name": "stdout",
     "output_type": "stream",
     "text": [
      "allocation : Size=6, Index=I*J, Active=True\n",
      "    Key          : Lower : Body                 : Upper : Active\n",
      "    ('P1', 'M1') :  -Inf : x[P1] - 160*y[P1,M1] :   0.0 :   True\n",
      "    ('P1', 'M2') :  -Inf : x[P1] - 200*y[P1,M2] :   0.0 :   True\n",
      "    ('P2', 'M1') :  -Inf : x[P2] - 160*y[P2,M1] :   0.0 :   True\n",
      "    ('P2', 'M2') :  -Inf : x[P2] - 200*y[P2,M2] :   0.0 :   True\n",
      "    ('P3', 'M1') :  -Inf : x[P3] - 160*y[P3,M1] :   0.0 :   True\n",
      "    ('P3', 'M2') :  -Inf : x[P3] - 200*y[P3,M2] :   0.0 :   True\n"
     ]
    }
   ],
   "source": [
    "# Machine allocation constraint\n",
    "m.allocation = pyo.Constraint(\n",
    "    m.I, m.J,\n",
    "    rule=lambda m, i, j: m.x[i] <= m.cap[j] * m.y[i,j]\n",
    ")\n",
    "\n",
    "m.allocation.pprint()"
   ]
  },
  {
   "cell_type": "markdown",
   "metadata": {},
   "source": [
    "With this, we have a complete model:\n",
    "- We have a set that contains the group of entities\n",
    "- We have decision variables that represent what we want to optimize over\n",
    "- We have parameters that represent the data of the model\n",
    "- We have expressions that are useful for defining objective, constraints, output metrics, etc.\n",
    "- We have set the objective function and whether it is a maximization or minimization\n",
    "- We have constraints that represent the rules that must be satisfied by the solution\n",
    "\n",
    "A complete model does not mean it guarantees a solution. It means that the model is fully defined and ready to be solved. Whether it will find a solution depends on the solver and whether the problem is feasible. A feasible problem is one that has at least one feasible solution, i.e. a solution that satisfies all the constraints.\n",
    "\n",
    "In some cases, we can have a setting where the model is not feasible, perhaps due to a conflict in the constraints or simply impossible to satisfy all the constraints at once. In such cases, we can try to relax some of the constraints or change the model to make it feasible. We will cover this in the verification adn validation (V&V) step of the optimization process. Regardless of the feasibility of the model, we can still use the model to explore the solution space and understand the problem better.\n",
    "\n",
    "That said, let's see how to solve the model. We can use the `SolverFactory` class with the solver of our choice to solve the model and call the `solve()` method on the model object. Let's use the `glpk` solver for this example:"
   ]
  },
  {
   "cell_type": "code",
   "execution_count": 8,
   "metadata": {},
   "outputs": [
    {
     "name": "stdout",
     "output_type": "stream",
     "text": [
      "\n",
      "Problem: \n",
      "- Name: unknown\n",
      "  Lower bound: -inf\n",
      "  Upper bound: inf\n",
      "  Number of objectives: 1\n",
      "  Number of constraints: 11\n",
      "  Number of variables: 10\n",
      "  Number of nonzeros: 21\n",
      "  Sense: minimize\n",
      "Solver: \n",
      "- Status: ok\n",
      "  Termination condition: infeasible\n",
      "  Statistics: \n",
      "    Branch and bound: \n",
      "      Number of bounded subproblems: 0\n",
      "      Number of created subproblems: 0\n",
      "  Error rc: 0\n",
      "  Time: 0.026021718978881836\n",
      "\n"
     ]
    }
   ],
   "source": [
    "solver = pyo.SolverFactory('glpk')\n",
    "results = solver.solve(m)\n",
    "\n",
    "print(results)"
   ]
  },
  {
   "cell_type": "markdown",
   "metadata": {},
   "source": [
    "In this example, we have an infeasible solution (since we created a dummy model). Let's create an example of a feasible model and solve it:"
   ]
  },
  {
   "cell_type": "code",
   "execution_count": 9,
   "metadata": {},
   "outputs": [
    {
     "name": "stdout",
     "output_type": "stream",
     "text": [
      "\n",
      "Problem: \n",
      "- Name: unknown\n",
      "  Lower bound: 42000.0\n",
      "  Upper bound: 42000.0\n",
      "  Number of objectives: 1\n",
      "  Number of constraints: 11\n",
      "  Number of variables: 8\n",
      "  Number of nonzeros: 24\n",
      "  Sense: maximize\n",
      "Solver: \n",
      "- Status: ok\n",
      "  Termination condition: optimal\n",
      "  Statistics: \n",
      "    Branch and bound: \n",
      "      Number of bounded subproblems: 5\n",
      "      Number of created subproblems: 5\n",
      "  Error rc: 0\n",
      "  Time: 0.026836156845092773\n",
      "Solution: \n",
      "- number of solutions: 0\n",
      "  number of solutions displayed: 0\n",
      "\n"
     ]
    }
   ],
   "source": [
    "m = pyo.ConcreteModel()\n",
    "\n",
    "m.I = pyo.Set(initialize=['P1', 'P2', 'P3'])\n",
    "m.J = pyo.Set(initialize=['M1', 'M2'])\n",
    "m.x = pyo.Var(m.I, m.J, domain=pyo.NonNegativeReals, initialize={(i, j): 0 for i in m.I for j in m.J})\n",
    "m.y = pyo.Var(m.J, domain=pyo.Binary, initialize={(j): 0 for j in m.J})\n",
    "m.p = pyo.Param(m.I, initialize={'P1': 100, 'P2': 150, 'P3': 200})\n",
    "m.c = pyo.Param(m.J, initialize={'M1': 50, 'M2': 40})\n",
    "m.d = pyo.Param(m.I, initialize={'P1': 80, 'P2': 120, 'P3': 60})\n",
    "m.cap = pyo.Param(m.J, initialize={'M1': 160, 'M2': 200})\n",
    "\n",
    "m.revenue = pyo.Expression(expr=sum(m.p[i] * m.x[i, j] for i in m.I for j in m.J))\n",
    "m.production_cost = pyo.Expression(expr=sum(m.c[j] * m.x[i,j] for i in m.I for j in m.J))\n",
    "\n",
    "m.obj = pyo.Objective(expr=m.revenue - m.production_cost, sense=pyo.maximize)\n",
    "m.capacity = pyo.Constraint(m.J, rule=lambda m, j: sum(m.x[i,j] for i in m.I) <= m.cap[j])\n",
    "m.demand = pyo.Constraint(m.I, rule=lambda m, i: sum(m.x[i,j] for j in m.J) >= m.d[i])\n",
    "m.assignment = pyo.Constraint(m.I, m.J, rule=lambda m, i, j: m.x[i,j] <= m.cap[j] * m.y[j])\n",
    "\n",
    "solver = pyo.SolverFactory('glpk')\n",
    "results = solver.solve(m)\n",
    "\n",
    "print(results)"
   ]
  },
  {
   "cell_type": "markdown",
   "metadata": {},
   "source": [
    "In this example, we change the setting. The decision variables are now defined as `m.x[i,j]` and `m.y[j]`, where `x[i,j]` is the production quantity of product `i` on machine `j`, and `y[j]` is the binary variable that indicates whether machine `j` is used. \n",
    "\n",
    "The constraints are now defined as:\n",
    "- `m.capacity` is the capacity constraint for each machine\n",
    "- `m.demand` is the demand constraint for each product\n",
    "- `m.assignment` is the assignment constraint for each product and machine, which ensures that the production quantity of each product on each machine is less than or equal to the capacity of the machine multiplied by the binary variable that indicates whether the machine is used\n",
    "\n",
    "The objective function is now defined as the difference between the revenue and the production cost, which is the total revenue minus the total production cost.\n",
    "\n",
    "We can now solve the model and access the solution:"
   ]
  },
  {
   "cell_type": "code",
   "execution_count": 10,
   "metadata": {},
   "outputs": [
    {
     "name": "stdout",
     "output_type": "stream",
     "text": [
      "\n",
      "Problem: \n",
      "- Name: unknown\n",
      "  Lower bound: 42000.0\n",
      "  Upper bound: 42000.0\n",
      "  Number of objectives: 1\n",
      "  Number of constraints: 11\n",
      "  Number of variables: 8\n",
      "  Number of nonzeros: 24\n",
      "  Sense: maximize\n",
      "Solver: \n",
      "- Status: ok\n",
      "  Termination condition: optimal\n",
      "  Statistics: \n",
      "    Branch and bound: \n",
      "      Number of bounded subproblems: 5\n",
      "      Number of created subproblems: 5\n",
      "  Error rc: 0\n",
      "  Time: 0.024807214736938477\n",
      "Solution: \n",
      "- number of solutions: 0\n",
      "  number of solutions displayed: 0\n",
      "\n"
     ]
    }
   ],
   "source": [
    "solver = pyo.SolverFactory('glpk')\n",
    "results = solver.solve(m)\n",
    "\n",
    "print(results)"
   ]
  },
  {
   "cell_type": "markdown",
   "metadata": {},
   "source": [
    "In this example, we have a feasible solution. We can now access the solution and evaluate the objective function and constraints at the solution:"
   ]
  },
  {
   "cell_type": "code",
   "execution_count": 11,
   "metadata": {},
   "outputs": [
    {
     "name": "stdout",
     "output_type": "stream",
     "text": [
      "The optimal solution is: x = [('P1', 'M1', 0.0), ('P1', 'M2', 80.0), ('P2', 'M1', 120.0), ('P2', 'M2', 0.0), ('P3', 'M1', 40.0), ('P3', 'M2', 120.0)]\n",
      "The optimal solution is: y = [('M1', 1.0), ('M2', 1.0)]\n",
      "The optimal objective value is:  42000.0\n"
     ]
    }
   ],
   "source": [
    "print(\"The optimal solution is: x =\", [(i, j, m.x[i,j]()) for i in m.I for j in m.J])\n",
    "print(\"The optimal solution is: y =\", [(j, m.y[j]()) for j in m.J])\n",
    "print(\"The optimal objective value is: \", m.obj())"
   ]
  },
  {
   "cell_type": "markdown",
   "metadata": {},
   "source": [
    "Note that the optimal solution is now different from the initial solution. This is because the solver has found a better solution that satisfies all the constraints and maximizes the objective function.\n",
    "\n",
    "Since we define expressions, we can also evaluate the expressions at the solution:"
   ]
  },
  {
   "cell_type": "code",
   "execution_count": 12,
   "metadata": {},
   "outputs": [
    {
     "name": "stdout",
     "output_type": "stream",
     "text": [
      "The optimal revenue is:  58000.0\n",
      "The optimal production cost is:  16000.0\n"
     ]
    }
   ],
   "source": [
    "print(\"The optimal revenue is: \", m.revenue())\n",
    "print(\"The optimal production cost is: \", m.production_cost())\n"
   ]
  },
  {
   "cell_type": "markdown",
   "metadata": {},
   "source": [
    "We can also evaluate the constraints at the solution:"
   ]
  },
  {
   "cell_type": "code",
   "execution_count": 13,
   "metadata": {},
   "outputs": [
    {
     "name": "stdout",
     "output_type": "stream",
     "text": [
      "The capacity constraint status:  [('M1', True), ('M2', True)]\n",
      "The demand constraint status:  [('P1', True), ('P2', True), ('P3', True)]\n",
      "The assignment constraint status:  [('P1', 'M1', True), ('P1', 'M2', True), ('P2', 'M1', True), ('P2', 'M2', True), ('P3', 'M1', True), ('P3', 'M2', True)]\n"
     ]
    }
   ],
   "source": [
    "print(\"The capacity constraint status: \", [(j, m.capacity[j]() <= m.cap[j]) for j in m.J])\n",
    "print(\"The demand constraint status: \", [(i, m.demand[i]() >= m.d[i]) for i in m.I])\n",
    "print(\"The assignment constraint status: \", [(i, j, m.assignment[i,j]() <= m.cap[j] * m.y[j]()) for i in m.I for j in m.J])\n"
   ]
  },
  {
   "cell_type": "markdown",
   "metadata": {},
   "source": [
    "## Conclusion\n",
    "\n",
    "In this notebook, we have learned how to define constraints in Pyomo. We have seen how to define different types of constraints and how to use them in the model. We have also seen how to display and evaluate the constraints at a given solution."
   ]
  }
 ],
 "metadata": {
  "kernelspec": {
   "display_name": ".venv",
   "language": "python",
   "name": "python3"
  },
  "language_info": {
   "codemirror_mode": {
    "name": "ipython",
    "version": 3
   },
   "file_extension": ".py",
   "mimetype": "text/x-python",
   "name": "python",
   "nbconvert_exporter": "python",
   "pygments_lexer": "ipython3",
   "version": "3.9.12"
  }
 },
 "nbformat": 4,
 "nbformat_minor": 2
}
